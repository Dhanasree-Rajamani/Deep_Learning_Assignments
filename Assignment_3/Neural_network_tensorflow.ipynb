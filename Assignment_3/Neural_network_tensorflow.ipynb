{
  "nbformat": 4,
  "nbformat_minor": 0,
  "metadata": {
    "colab": {
      "provenance": [],
      "authorship_tag": "ABX9TyNtNaPJnXrrG8s71d4jK4zv",
      "include_colab_link": true
    },
    "kernelspec": {
      "name": "python3",
      "display_name": "Python 3"
    },
    "language_info": {
      "name": "python"
    }
  },
  "cells": [
    {
      "cell_type": "markdown",
      "metadata": {
        "id": "view-in-github",
        "colab_type": "text"
      },
      "source": [
        "<a href=\"https://colab.research.google.com/github/Dhanasree-Rajamani/Deep_Learning_Assignments/blob/main/Assignment_3/Neural_network_tensorflow.ipynb\" target=\"_parent\"><img src=\"https://colab.research.google.com/assets/colab-badge.svg\" alt=\"Open In Colab\"/></a>"
      ]
    },
    {
      "cell_type": "markdown",
      "source": [
        "Tensorflow/ Keras"
      ],
      "metadata": {
        "id": "115_l_rTnAaj"
      }
    },
    {
      "cell_type": "markdown",
      "source": [
        "This notebook consists of the following implemented using:\n",
        "  \n",
        "  - Tensorflow built in layers functional API\n",
        "  - Tensorflow from scratch low level API\n",
        "  - Tensorflow High level API\n",
        "\n",
        "    - Using einsum and tensor\n",
        "    - 3 layer neural network \n",
        "    - 2 and 3 variable based non linear equation(quadratic and cubic non linear equation)\n",
        "    - Relu for non-linear activation function, implemented chain rule based gradient propagation\n",
        "    - used appropriate number of neurons and epochs\n",
        "    - SGD and Adam optimizer for optimization\n"
      ],
      "metadata": {
        "id": "Z-PcmeI0d8uL"
      }
    },
    {
      "cell_type": "code",
      "source": [
        "!pip install --upgrade umap-learn\n",
        "!pip install plotly"
      ],
      "metadata": {
        "colab": {
          "base_uri": "https://localhost:8080/"
        },
        "id": "fATsMUIblkCj",
        "outputId": "a4e01f85-667c-4814-a72a-aa9382a79cd7"
      },
      "execution_count": 21,
      "outputs": [
        {
          "output_type": "stream",
          "name": "stdout",
          "text": [
            "Looking in indexes: https://pypi.org/simple, https://us-python.pkg.dev/colab-wheels/public/simple/\n",
            "Requirement already satisfied: umap-learn in /usr/local/lib/python3.8/dist-packages (0.5.3)\n",
            "Requirement already satisfied: scipy>=1.0 in /usr/local/lib/python3.8/dist-packages (from umap-learn) (1.10.1)\n",
            "Requirement already satisfied: numpy>=1.17 in /usr/local/lib/python3.8/dist-packages (from umap-learn) (1.22.4)\n",
            "Requirement already satisfied: numba>=0.49 in /usr/local/lib/python3.8/dist-packages (from umap-learn) (0.56.4)\n",
            "Requirement already satisfied: scikit-learn>=0.22 in /usr/local/lib/python3.8/dist-packages (from umap-learn) (1.2.1)\n",
            "Requirement already satisfied: tqdm in /usr/local/lib/python3.8/dist-packages (from umap-learn) (4.64.1)\n",
            "Requirement already satisfied: pynndescent>=0.5 in /usr/local/lib/python3.8/dist-packages (from umap-learn) (0.5.8)\n",
            "Requirement already satisfied: setuptools in /usr/local/lib/python3.8/dist-packages (from numba>=0.49->umap-learn) (57.4.0)\n",
            "Requirement already satisfied: llvmlite<0.40,>=0.39.0dev0 in /usr/local/lib/python3.8/dist-packages (from numba>=0.49->umap-learn) (0.39.1)\n",
            "Requirement already satisfied: importlib-metadata in /usr/local/lib/python3.8/dist-packages (from numba>=0.49->umap-learn) (6.0.0)\n",
            "Requirement already satisfied: joblib>=0.11 in /usr/local/lib/python3.8/dist-packages (from pynndescent>=0.5->umap-learn) (1.2.0)\n",
            "Requirement already satisfied: threadpoolctl>=2.0.0 in /usr/local/lib/python3.8/dist-packages (from scikit-learn>=0.22->umap-learn) (3.1.0)\n",
            "Requirement already satisfied: zipp>=0.5 in /usr/local/lib/python3.8/dist-packages (from importlib-metadata->numba>=0.49->umap-learn) (3.15.0)\n",
            "Looking in indexes: https://pypi.org/simple, https://us-python.pkg.dev/colab-wheels/public/simple/\n",
            "Requirement already satisfied: plotly in /usr/local/lib/python3.8/dist-packages (5.5.0)\n",
            "Requirement already satisfied: six in /usr/local/lib/python3.8/dist-packages (from plotly) (1.15.0)\n",
            "Requirement already satisfied: tenacity>=6.2.0 in /usr/local/lib/python3.8/dist-packages (from plotly) (8.2.2)\n"
          ]
        }
      ]
    },
    {
      "cell_type": "code",
      "source": [
        "import numpy as np\n",
        "import matplotlib.pyplot as plt"
      ],
      "metadata": {
        "id": "VzBdm-SCQskJ"
      },
      "execution_count": 22,
      "outputs": []
    },
    {
      "cell_type": "code",
      "source": [
        "def plot_3d(x, y, y_pred=None):\n",
        "  import matplotlib.pyplot as plt\n",
        "  from mpl_toolkits.mplot3d import Axes3D\n",
        "  fig = plt.figure()\n",
        "  ax = fig.add_subplot(111, projection='3d')\n",
        "  ax.scatter(x[:, 0], x[:, 1], y, label='underlying function')\n",
        "  if y_pred is not None:\n",
        "    ax.scatter(x[:, 0], x[:, 1], y_pred, label='our function')\n",
        "  plt.legend()"
      ],
      "metadata": {
        "id": "ntMojiyBmI1v"
      },
      "execution_count": 23,
      "outputs": []
    },
    {
      "cell_type": "code",
      "source": [
        "def plot_4d(x, y, y_pred=None):\n",
        "    fig = plt.figure()\n",
        "    ax = fig.add_subplot(111, projection='3d')\n",
        "    ax.scatter(x[:, 0], x[:, 1], x[:, 2], c=y.numpy().flatten(), cmap='Blues_r', label='underlying function')\n",
        "    if y_pred is not None:\n",
        "        ax.scatter(x[:, 0], x[:, 1], x[:, 2], c=y_pred.numpy().flatten(), cmap='Reds_r', label='our function')\n",
        "    ax.set_xlabel('X')\n",
        "    ax.set_ylabel('Y')\n",
        "    ax.set_zlabel('Z')\n",
        "    plt.legend()"
      ],
      "metadata": {
        "id": "lnUhfJt7c905"
      },
      "execution_count": 24,
      "outputs": []
    },
    {
      "cell_type": "code",
      "source": [
        "import tensorflow as tf\n",
        "import matplotlib.pyplot as plt\n",
        "import umap\n",
        "import plotly.graph_objects as go\n",
        "\n",
        "\n",
        "n = 300\n",
        "d = 3\n",
        "x = tf.random.uniform((n, d), -1, 1)\n",
        "\n",
        "weights_true = tf.constant([[2, 5, 7]], dtype=tf.float32)\n",
        "bias_true = tf.constant([1], dtype=tf.float32)\n",
        "\n",
        "y_true = tf.einsum('ij, kj->i', tf.pow(x, 3), weights_true) + tf.einsum('ij, kj->i', tf.pow(x, 2), weights_true) + tf.einsum('ij, kj->i', x, weights_true) + bias_true\n",
        "\n",
        "print(f'x: {x.shape}, weights: {weights_true.shape}, bias: {bias_true.shape}, y: {y_true.shape}')\n",
        "\n",
        "plot_4d(x.numpy(), y_true)\n"
      ],
      "metadata": {
        "colab": {
          "base_uri": "https://localhost:8080/",
          "height": 276
        },
        "id": "6iyCcRrbdoqo",
        "outputId": "7d6d133f-4fd7-40ca-e48e-1c216ce857a2"
      },
      "execution_count": 25,
      "outputs": [
        {
          "output_type": "stream",
          "name": "stdout",
          "text": [
            "x: (300, 3), weights: (1, 3), bias: (1,), y: (300,)\n"
          ]
        },
        {
          "output_type": "display_data",
          "data": {
            "text/plain": [
              "<Figure size 432x288 with 1 Axes>"
            ],
            "image/png": "[encoded data removed]"
          },
          "metadata": {
            "needs_background": "light"
          }
        }
      ]
    },
    {
      "cell_type": "markdown",
      "source": [
        "###Tensorflow built-in Functional API"
      ],
      "metadata": {
        "id": "fHR2WxOWsPSm"
      }
    },
    {
      "cell_type": "markdown",
      "source": [
        "cubic equation data(3 dim)\n",
        "\n",
        "2x^3 + 5x^2 + 7x + 1"
      ],
      "metadata": {
        "id": "sClFr1F5RJ95"
      }
    },
    {
      "cell_type": "code",
      "source": [
        "from tensorflow import keras\n",
        "from tensorflow.keras import layers\n",
        "from tensorflow.keras import optimizers\n",
        "\n",
        "inputs = keras.Input(shape=(3,))\n",
        "l1 = layers.Dense(30, activation='relu', name='dense_1')(inputs)\n",
        "l2 = layers.Dense(30, activation='relu', name='dense_2')(l1)\n",
        "l3 = layers.Dense(30, activation='relu', name='dense_3')(l2)\n",
        "outputs = layers.Dense(1, name='regression')(l3)\n",
        "\n",
        "model = keras.Model(inputs=inputs, outputs=outputs)\n",
        "print(model.summary())\n",
        "model.compile(loss='mse', optimizer=optimizers.SGD(0.01))\n",
        "\n",
        "model.fit(x, y_true, epochs=150)\n",
        "\n",
        "y_pred = model.predict(x)\n",
        "\n",
        "plot_3d(x, y_true, model(x))"
      ],
      "metadata": {
        "colab": {
          "base_uri": "https://localhost:8080/",
          "height": 1000
        },
        "id": "40_KijSrlh1U",
        "outputId": "ed547d98-32ed-4125-89f7-26f8bf346c8d"
      },
      "execution_count": 26,
      "outputs": [
        {
          "output_type": "stream",
          "name": "stdout",
          "text": [
            "Model: \"model_2\"\n",
            "_________________________________________________________________\n",
            " Layer (type)                Output Shape              Param #   \n",
            "=================================================================\n",
            " input_3 (InputLayer)        [(None, 3)]               0         \n",
            "                                                                 \n",
            " dense_1 (Dense)             (None, 30)                120       \n",
            "                                                                 \n",
            " dense_2 (Dense)             (None, 30)                930       \n",
            "                                                                 \n",
            " dense_3 (Dense)             (None, 30)                930       \n",
            "                                                                 \n",
            " regression (Dense)          (None, 1)                 31        \n",
            "                                                                 \n",
            "=================================================================\n",
            "Total params: 2,011\n",
            "Trainable params: 2,011\n",
            "Non-trainable params: 0\n",
            "_________________________________________________________________\n",
            "None\n",
            "Epoch 1/150\n",
            "10/10 [==============================] - 1s 7ms/step - loss: 83.1042\n",
            "Epoch 2/150\n",
            "10/10 [==============================] - 0s 4ms/step - loss: 43.8253\n",
            "Epoch 3/150\n",
            "10/10 [==============================] - 0s 4ms/step - loss: 29.2835\n",
            "Epoch 4/150\n",
            "10/10 [==============================] - 0s 3ms/step - loss: 17.1091\n",
            "Epoch 5/150\n",
            "10/10 [==============================] - 0s 4ms/step - loss: 22.1130\n",
            "Epoch 6/150\n",
            "10/10 [==============================] - 0s 3ms/step - loss: 70.1266\n",
            "Epoch 7/150\n",
            "10/10 [==============================] - 0s 3ms/step - loss: 10.9383\n",
            "Epoch 8/150\n",
            "10/10 [==============================] - 0s 4ms/step - loss: 8.9455\n",
            "Epoch 9/150\n",
            "10/10 [==============================] - 0s 3ms/step - loss: 3.6548\n",
            "Epoch 10/150\n",
            "10/10 [==============================] - 0s 3ms/step - loss: 6.4419\n",
            "Epoch 11/150\n",
            "10/10 [==============================] - 0s 3ms/step - loss: 1.2025\n",
            "Epoch 12/150\n",
            "10/10 [==============================] - 0s 3ms/step - loss: 3.9894\n",
            "Epoch 13/150\n",
            "10/10 [==============================] - 0s 5ms/step - loss: 3.9979\n",
            "Epoch 14/150\n",
            "10/10 [==============================] - 0s 5ms/step - loss: 2.7966\n",
            "Epoch 15/150\n",
            "10/10 [==============================] - 0s 8ms/step - loss: 1.0404\n",
            "Epoch 16/150\n",
            "10/10 [==============================] - 0s 6ms/step - loss: 0.8749\n",
            "Epoch 17/150\n",
            "10/10 [==============================] - 0s 3ms/step - loss: 6.8396\n",
            "Epoch 18/150\n",
            "10/10 [==============================] - 0s 3ms/step - loss: 1.2387\n",
            "Epoch 19/150\n",
            "10/10 [==============================] - 0s 3ms/step - loss: 1.6380\n",
            "Epoch 20/150\n",
            "10/10 [==============================] - 0s 3ms/step - loss: 1.7985\n",
            "Epoch 21/150\n",
            "10/10 [==============================] - 0s 3ms/step - loss: 1.2706\n",
            "Epoch 22/150\n",
            "10/10 [==============================] - 0s 3ms/step - loss: 0.6575\n",
            "Epoch 23/150\n",
            "10/10 [==============================] - 0s 3ms/step - loss: 3.7165\n",
            "Epoch 24/150\n",
            "10/10 [==============================] - 0s 3ms/step - loss: 0.7370\n",
            "Epoch 25/150\n",
            "10/10 [==============================] - 0s 3ms/step - loss: 0.4783\n",
            "Epoch 26/150\n",
            "10/10 [==============================] - 0s 3ms/step - loss: 0.5943\n",
            "Epoch 27/150\n",
            "10/10 [==============================] - 0s 3ms/step - loss: 3.4936\n",
            "Epoch 28/150\n",
            "10/10 [==============================] - 0s 3ms/step - loss: 2.6112\n",
            "Epoch 29/150\n",
            "10/10 [==============================] - 0s 4ms/step - loss: 3.6172\n",
            "Epoch 30/150\n",
            "10/10 [==============================] - 0s 3ms/step - loss: 0.9020\n",
            "Epoch 31/150\n",
            "10/10 [==============================] - 0s 3ms/step - loss: 1.8320\n",
            "Epoch 32/150\n",
            "10/10 [==============================] - 0s 3ms/step - loss: 7.1938\n",
            "Epoch 33/150\n",
            "10/10 [==============================] - 0s 3ms/step - loss: 1.9276\n",
            "Epoch 34/150\n",
            "10/10 [==============================] - 0s 3ms/step - loss: 0.4421\n",
            "Epoch 35/150\n",
            "10/10 [==============================] - 0s 3ms/step - loss: 1.1007\n",
            "Epoch 36/150\n",
            "10/10 [==============================] - 0s 3ms/step - loss: 2.1333\n",
            "Epoch 37/150\n",
            "10/10 [==============================] - 0s 3ms/step - loss: 0.4384\n",
            "Epoch 38/150\n",
            "10/10 [==============================] - 0s 3ms/step - loss: 0.8022\n",
            "Epoch 39/150\n",
            "10/10 [==============================] - 0s 4ms/step - loss: 0.7540\n",
            "Epoch 40/150\n",
            "10/10 [==============================] - 0s 4ms/step - loss: 1.3573\n",
            "Epoch 41/150\n",
            "10/10 [==============================] - 0s 6ms/step - loss: 1.2241\n",
            "Epoch 42/150\n",
            "10/10 [==============================] - 0s 5ms/step - loss: 0.2891\n",
            "Epoch 43/150\n",
            "10/10 [==============================] - 0s 5ms/step - loss: 0.3387\n",
            "Epoch 44/150\n",
            "10/10 [==============================] - 0s 6ms/step - loss: 3.2344\n",
            "Epoch 45/150\n",
            "10/10 [==============================] - 0s 5ms/step - loss: 0.6138\n",
            "Epoch 46/150\n",
            "10/10 [==============================] - 0s 6ms/step - loss: 0.3819\n",
            "Epoch 47/150\n",
            "10/10 [==============================] - 0s 5ms/step - loss: 0.5270\n",
            "Epoch 48/150\n",
            "10/10 [==============================] - 0s 5ms/step - loss: 0.2162\n",
            "Epoch 49/150\n",
            "10/10 [==============================] - 0s 5ms/step - loss: 0.8751\n",
            "Epoch 50/150\n",
            "10/10 [==============================] - 0s 5ms/step - loss: 0.3758\n",
            "Epoch 51/150\n",
            "10/10 [==============================] - 0s 5ms/step - loss: 0.2798\n",
            "Epoch 52/150\n",
            "10/10 [==============================] - 0s 5ms/step - loss: 0.2845\n",
            "Epoch 53/150\n",
            "10/10 [==============================] - 0s 5ms/step - loss: 0.4016\n",
            "Epoch 54/150\n",
            "10/10 [==============================] - 0s 6ms/step - loss: 1.2211\n",
            "Epoch 55/150\n",
            "10/10 [==============================] - 0s 4ms/step - loss: 0.9847\n",
            "Epoch 56/150\n",
            "10/10 [==============================] - 0s 4ms/step - loss: 0.3213\n",
            "Epoch 57/150\n",
            "10/10 [==============================] - 0s 3ms/step - loss: 3.7205\n",
            "Epoch 58/150\n",
            "10/10 [==============================] - 0s 4ms/step - loss: 0.3391\n",
            "Epoch 59/150\n",
            "10/10 [==============================] - 0s 3ms/step - loss: 0.3080\n",
            "Epoch 60/150\n",
            "10/10 [==============================] - 0s 3ms/step - loss: 0.3648\n",
            "Epoch 61/150\n",
            "10/10 [==============================] - 0s 3ms/step - loss: 0.2182\n",
            "Epoch 62/150\n",
            "10/10 [==============================] - 0s 3ms/step - loss: 0.4913\n",
            "Epoch 63/150\n",
            "10/10 [==============================] - 0s 3ms/step - loss: 0.5497\n",
            "Epoch 64/150\n",
            "10/10 [==============================] - 0s 3ms/step - loss: 1.2483\n",
            "Epoch 65/150\n",
            "10/10 [==============================] - 0s 3ms/step - loss: 0.2152\n",
            "Epoch 66/150\n",
            "10/10 [==============================] - 0s 4ms/step - loss: 0.2305\n",
            "Epoch 67/150\n",
            "10/10 [==============================] - 0s 3ms/step - loss: 3.8519\n",
            "Epoch 68/150\n",
            "10/10 [==============================] - 0s 3ms/step - loss: 0.4220\n",
            "Epoch 69/150\n",
            "10/10 [==============================] - 0s 3ms/step - loss: 0.2417\n",
            "Epoch 70/150\n",
            "10/10 [==============================] - 0s 3ms/step - loss: 0.3832\n",
            "Epoch 71/150\n",
            "10/10 [==============================] - 0s 3ms/step - loss: 0.2037\n",
            "Epoch 72/150\n",
            "10/10 [==============================] - 0s 3ms/step - loss: 0.2231\n",
            "Epoch 73/150\n",
            "10/10 [==============================] - 0s 3ms/step - loss: 0.1963\n",
            "Epoch 74/150\n",
            "10/10 [==============================] - 0s 3ms/step - loss: 0.5127\n",
            "Epoch 75/150\n",
            "10/10 [==============================] - 0s 8ms/step - loss: 0.2180\n",
            "Epoch 76/150\n",
            "10/10 [==============================] - 0s 9ms/step - loss: 0.9181\n",
            "Epoch 77/150\n",
            "10/10 [==============================] - 0s 9ms/step - loss: 1.0992\n",
            "Epoch 78/150\n",
            "10/10 [==============================] - 0s 9ms/step - loss: 0.1936\n",
            "Epoch 79/150\n",
            "10/10 [==============================] - 0s 8ms/step - loss: 0.2601\n",
            "Epoch 80/150\n",
            "10/10 [==============================] - 0s 9ms/step - loss: 0.2373\n",
            "Epoch 81/150\n",
            "10/10 [==============================] - 0s 5ms/step - loss: 0.3037\n",
            "Epoch 82/150\n",
            "10/10 [==============================] - 0s 5ms/step - loss: 1.0147\n",
            "Epoch 83/150\n",
            "10/10 [==============================] - 0s 8ms/step - loss: 0.2116\n",
            "Epoch 84/150\n",
            "10/10 [==============================] - 0s 5ms/step - loss: 0.1883\n",
            "Epoch 85/150\n",
            "10/10 [==============================] - 0s 5ms/step - loss: 0.7003\n",
            "Epoch 86/150\n",
            "10/10 [==============================] - 0s 4ms/step - loss: 0.2566\n",
            "Epoch 87/150\n",
            "10/10 [==============================] - 0s 5ms/step - loss: 0.5166\n",
            "Epoch 88/150\n",
            "10/10 [==============================] - 0s 7ms/step - loss: 0.3699\n",
            "Epoch 89/150\n",
            "10/10 [==============================] - 0s 6ms/step - loss: 0.1781\n",
            "Epoch 90/150\n",
            "10/10 [==============================] - 0s 7ms/step - loss: 0.5206\n",
            "Epoch 91/150\n",
            "10/10 [==============================] - 0s 5ms/step - loss: 0.4139\n",
            "Epoch 92/150\n",
            "10/10 [==============================] - 0s 7ms/step - loss: 0.1531\n",
            "Epoch 93/150\n",
            "10/10 [==============================] - 0s 4ms/step - loss: 0.4754\n",
            "Epoch 94/150\n",
            "10/10 [==============================] - 0s 4ms/step - loss: 0.1664\n",
            "Epoch 95/150\n",
            "10/10 [==============================] - 0s 5ms/step - loss: 0.3327\n",
            "Epoch 96/150\n",
            "10/10 [==============================] - 0s 4ms/step - loss: 0.1122\n",
            "Epoch 97/150\n",
            "10/10 [==============================] - 0s 3ms/step - loss: 0.1223\n",
            "Epoch 98/150\n",
            "10/10 [==============================] - 0s 3ms/step - loss: 0.1413\n",
            "Epoch 99/150\n",
            "10/10 [==============================] - 0s 5ms/step - loss: 0.1951\n",
            "Epoch 100/150\n",
            "10/10 [==============================] - 0s 6ms/step - loss: 0.1704\n",
            "Epoch 101/150\n",
            "10/10 [==============================] - 0s 8ms/step - loss: 1.0692\n",
            "Epoch 102/150\n",
            "10/10 [==============================] - 0s 4ms/step - loss: 0.1812\n",
            "Epoch 103/150\n",
            "10/10 [==============================] - 0s 4ms/step - loss: 0.1619\n",
            "Epoch 104/150\n",
            "10/10 [==============================] - 0s 5ms/step - loss: 0.1286\n",
            "Epoch 105/150\n",
            "10/10 [==============================] - 0s 7ms/step - loss: 0.1246\n",
            "Epoch 106/150\n",
            "10/10 [==============================] - 0s 4ms/step - loss: 0.6761\n",
            "Epoch 107/150\n",
            "10/10 [==============================] - 0s 4ms/step - loss: 0.1463\n",
            "Epoch 108/150\n",
            "10/10 [==============================] - 0s 3ms/step - loss: 0.1144\n",
            "Epoch 109/150\n",
            "10/10 [==============================] - 0s 4ms/step - loss: 0.1072\n",
            "Epoch 110/150\n",
            "10/10 [==============================] - 0s 8ms/step - loss: 0.1194\n",
            "Epoch 111/150\n",
            "10/10 [==============================] - 0s 6ms/step - loss: 0.8685\n",
            "Epoch 112/150\n",
            "10/10 [==============================] - 0s 4ms/step - loss: 0.2969\n",
            "Epoch 113/150\n",
            "10/10 [==============================] - 0s 5ms/step - loss: 0.1739\n",
            "Epoch 114/150\n",
            "10/10 [==============================] - 0s 4ms/step - loss: 0.1262\n",
            "Epoch 115/150\n",
            "10/10 [==============================] - 0s 3ms/step - loss: 0.3630\n",
            "Epoch 116/150\n",
            "10/10 [==============================] - 0s 5ms/step - loss: 0.4233\n",
            "Epoch 117/150\n",
            "10/10 [==============================] - 0s 6ms/step - loss: 0.3217\n",
            "Epoch 118/150\n",
            "10/10 [==============================] - 0s 5ms/step - loss: 0.1110\n",
            "Epoch 119/150\n",
            "10/10 [==============================] - 0s 5ms/step - loss: 0.1319\n",
            "Epoch 120/150\n",
            "10/10 [==============================] - 0s 4ms/step - loss: 0.5414\n",
            "Epoch 121/150\n",
            "10/10 [==============================] - 0s 5ms/step - loss: 1.9209\n",
            "Epoch 122/150\n",
            "10/10 [==============================] - 0s 8ms/step - loss: 0.1825\n",
            "Epoch 123/150\n",
            "10/10 [==============================] - 0s 5ms/step - loss: 0.1868\n",
            "Epoch 124/150\n",
            "10/10 [==============================] - 0s 7ms/step - loss: 0.1305\n",
            "Epoch 125/150\n",
            "10/10 [==============================] - 0s 5ms/step - loss: 0.1838\n",
            "Epoch 126/150\n",
            "10/10 [==============================] - 0s 8ms/step - loss: 0.1029\n",
            "Epoch 127/150\n",
            "10/10 [==============================] - 0s 4ms/step - loss: 0.1985\n",
            "Epoch 128/150\n",
            "10/10 [==============================] - 0s 3ms/step - loss: 0.6235\n",
            "Epoch 129/150\n",
            "10/10 [==============================] - 0s 3ms/step - loss: 0.4706\n",
            "Epoch 130/150\n",
            "10/10 [==============================] - 0s 3ms/step - loss: 1.4429\n",
            "Epoch 131/150\n",
            "10/10 [==============================] - 0s 3ms/step - loss: 1.7839\n",
            "Epoch 132/150\n",
            "10/10 [==============================] - 0s 3ms/step - loss: 0.2509\n",
            "Epoch 133/150\n",
            "10/10 [==============================] - 0s 3ms/step - loss: 0.1520\n",
            "Epoch 134/150\n",
            "10/10 [==============================] - 0s 5ms/step - loss: 0.1680\n",
            "Epoch 135/150\n",
            "10/10 [==============================] - 0s 8ms/step - loss: 0.1228\n",
            "Epoch 136/150\n",
            "10/10 [==============================] - 0s 3ms/step - loss: 0.0984\n",
            "Epoch 137/150\n",
            "10/10 [==============================] - 0s 6ms/step - loss: 0.2048\n",
            "Epoch 138/150\n",
            "10/10 [==============================] - 0s 5ms/step - loss: 0.4535\n",
            "Epoch 139/150\n",
            "10/10 [==============================] - 0s 3ms/step - loss: 0.1968\n",
            "Epoch 140/150\n",
            "10/10 [==============================] - 0s 5ms/step - loss: 0.1161\n",
            "Epoch 141/150\n",
            "10/10 [==============================] - 0s 5ms/step - loss: 0.8549\n",
            "Epoch 142/150\n",
            "10/10 [==============================] - 0s 4ms/step - loss: 1.2632\n",
            "Epoch 143/150\n",
            "10/10 [==============================] - 0s 5ms/step - loss: 0.5597\n",
            "Epoch 144/150\n",
            "10/10 [==============================] - 0s 3ms/step - loss: 1.3018\n",
            "Epoch 145/150\n",
            "10/10 [==============================] - 0s 5ms/step - loss: 0.1160\n",
            "Epoch 146/150\n",
            "10/10 [==============================] - 0s 4ms/step - loss: 0.1174\n",
            "Epoch 147/150\n",
            "10/10 [==============================] - 0s 4ms/step - loss: 0.8892\n",
            "Epoch 148/150\n",
            "10/10 [==============================] - 0s 3ms/step - loss: 0.2046\n",
            "Epoch 149/150\n",
            "10/10 [==============================] - 0s 6ms/step - loss: 0.1958\n",
            "Epoch 150/150\n",
            "10/10 [==============================] - 0s 3ms/step - loss: 0.1313\n",
            "10/10 [==============================] - 0s 4ms/step\n"
          ]
        },
        {
          "output_type": "display_data",
          "data": {
            "text/plain": [
              "<Figure size 432x288 with 1 Axes>"
            ],
            "image/png": "[encoded data removed]"
          },
          "metadata": {
            "needs_background": "light"
          }
        }
      ]
    },
    {
      "cell_type": "code",
      "source": [
        "from typing import Callable\n",
        "\n",
        "def fit(x: np.ndarray, y: np.ndarray, model: Callable, loss: Callable, lr: float, num_epochs: int):\n",
        "  for epoch in range(num_epochs):\n",
        "    y_pred = model(x)\n",
        "    loss_value = loss(y_pred, y)\n",
        "    print(f'Epoch {epoch}, loss {loss_value}')\n",
        "    gradient_from_loss = loss.backward()\n",
        "    model.backward(gradient_from_loss)\n",
        "    model.update(lr)"
      ],
      "metadata": {
        "id": "I2gjR0JzQnbf"
      },
      "execution_count": 27,
      "outputs": []
    },
    {
      "cell_type": "code",
      "source": [
        "import tensorflow as tf\n",
        "import matplotlib.pyplot as plt\n",
        "import umap\n",
        "import plotly.graph_objects as go\n",
        "\n",
        "n = 200\n",
        "d = 2\n",
        "x = tf.random.uniform((n, d), -1, 1)\n",
        "\n",
        "weights_true = tf.constant([[5, 7]], dtype=tf.float32)\n",
        "bias_true = tf.constant([1], dtype=tf.float32)\n",
        "\n",
        "y_true = tf.einsum('ij, kj->i', tf.pow(x, 2), weights_true) + tf.einsum('ij, kj->i', x, weights_true) + bias_true\n",
        "\n",
        "#print(x**2)\n",
        "#print(\"wt true\")\n",
        "#print(weights_true)\n",
        "#print(\"y true\")\n",
        "#print(y_true)\n",
        "print(f'x: {x.shape}, weights: {weights_true.shape}, bias: {bias_true.shape}, y: {y_true.shape}')\n",
        "\n",
        "plot_3d(x.numpy(), y_true)"
      ],
      "metadata": {
        "colab": {
          "base_uri": "https://localhost:8080/",
          "height": 276
        },
        "id": "t-lQXSK6Q92v",
        "outputId": "161f84f6-ac4a-4fac-a05e-dfbe2fc8757a"
      },
      "execution_count": 28,
      "outputs": [
        {
          "output_type": "stream",
          "name": "stdout",
          "text": [
            "x: (200, 2), weights: (1, 2), bias: (1,), y: (200,)\n"
          ]
        },
        {
          "output_type": "display_data",
          "data": {
            "text/plain": [
              "<Figure size 432x288 with 1 Axes>"
            ],
            "image/png": "[encoded data removed]"
          },
          "metadata": {
            "needs_background": "light"
          }
        }
      ]
    },
    {
      "cell_type": "code",
      "source": [
        "from tensorflow import keras\n",
        "from tensorflow.keras import layers\n",
        "from tensorflow.keras import optimizers\n",
        "\n",
        "inputs = keras.Input(shape=(2,))\n",
        "l1 = layers.Dense(20, activation='relu', name='dense_1')(inputs)\n",
        "l2 = layers.Dense(20, activation='relu', name='dense_2')(l1)\n",
        "outputs = layers.Dense(1, name='regression')(l2)\n",
        "\n",
        "model = keras.Model(inputs=inputs, outputs=outputs)\n",
        "print(model.summary())\n",
        "model.compile(loss='mse', optimizer=optimizers.SGD(0.01))\n",
        "\n",
        "model.fit(x, y_true, epochs=50)\n",
        "\n",
        "y_pred = model.predict(x)\n",
        "\n",
        "plot_3d(x, y_true, model(x))"
      ],
      "metadata": {
        "colab": {
          "base_uri": "https://localhost:8080/",
          "height": 1000
        },
        "id": "FYctOvxsQ21g",
        "outputId": "fdf37d9c-c589-4249-e6d3-babc29f1ee98"
      },
      "execution_count": 29,
      "outputs": [
        {
          "output_type": "stream",
          "name": "stdout",
          "text": [
            "Model: \"model_3\"\n",
            "_________________________________________________________________\n",
            " Layer (type)                Output Shape              Param #   \n",
            "=================================================================\n",
            " input_4 (InputLayer)        [(None, 2)]               0         \n",
            "                                                                 \n",
            " dense_1 (Dense)             (None, 20)                60        \n",
            "                                                                 \n",
            " dense_2 (Dense)             (None, 20)                420       \n",
            "                                                                 \n",
            " regression (Dense)          (None, 1)                 21        \n",
            "                                                                 \n",
            "=================================================================\n",
            "Total params: 501\n",
            "Trainable params: 501\n",
            "Non-trainable params: 0\n",
            "_________________________________________________________________\n",
            "None\n",
            "Epoch 1/50\n",
            "7/7 [==============================] - 0s 3ms/step - loss: 46.4348\n",
            "Epoch 2/50\n",
            "7/7 [==============================] - 0s 2ms/step - loss: 20.8505\n",
            "Epoch 3/50\n",
            "7/7 [==============================] - 0s 2ms/step - loss: 7.6995\n",
            "Epoch 4/50\n",
            "7/7 [==============================] - 0s 2ms/step - loss: 5.3121\n",
            "Epoch 5/50\n",
            "7/7 [==============================] - 0s 3ms/step - loss: 5.0284\n",
            "Epoch 6/50\n",
            "7/7 [==============================] - 0s 2ms/step - loss: 4.0096\n",
            "Epoch 7/50\n",
            "7/7 [==============================] - 0s 3ms/step - loss: 3.9359\n",
            "Epoch 8/50\n",
            "7/7 [==============================] - 0s 3ms/step - loss: 3.3499\n",
            "Epoch 9/50\n",
            "7/7 [==============================] - 0s 3ms/step - loss: 3.0198\n",
            "Epoch 10/50\n",
            "7/7 [==============================] - 0s 4ms/step - loss: 2.6130\n",
            "Epoch 11/50\n",
            "7/7 [==============================] - 0s 6ms/step - loss: 2.3263\n",
            "Epoch 12/50\n",
            "7/7 [==============================] - 0s 3ms/step - loss: 2.0897\n",
            "Epoch 13/50\n",
            "7/7 [==============================] - 0s 4ms/step - loss: 1.9446\n",
            "Epoch 14/50\n",
            "7/7 [==============================] - 0s 4ms/step - loss: 1.6994\n",
            "Epoch 15/50\n",
            "7/7 [==============================] - 0s 4ms/step - loss: 1.5541\n",
            "Epoch 16/50\n",
            "7/7 [==============================] - 0s 4ms/step - loss: 1.1750\n",
            "Epoch 17/50\n",
            "7/7 [==============================] - 0s 4ms/step - loss: 0.9970\n",
            "Epoch 18/50\n",
            "7/7 [==============================] - 0s 5ms/step - loss: 0.8266\n",
            "Epoch 19/50\n",
            "7/7 [==============================] - 0s 4ms/step - loss: 0.7191\n",
            "Epoch 20/50\n",
            "7/7 [==============================] - 0s 4ms/step - loss: 0.6389\n",
            "Epoch 21/50\n",
            "7/7 [==============================] - 0s 4ms/step - loss: 0.6377\n",
            "Epoch 22/50\n",
            "7/7 [==============================] - 0s 4ms/step - loss: 0.5283\n",
            "Epoch 23/50\n",
            "7/7 [==============================] - 0s 3ms/step - loss: 0.4340\n",
            "Epoch 24/50\n",
            "7/7 [==============================] - 0s 2ms/step - loss: 0.4927\n",
            "Epoch 25/50\n",
            "7/7 [==============================] - 0s 3ms/step - loss: 0.4443\n",
            "Epoch 26/50\n",
            "7/7 [==============================] - 0s 2ms/step - loss: 0.3623\n",
            "Epoch 27/50\n",
            "7/7 [==============================] - 0s 3ms/step - loss: 0.3134\n",
            "Epoch 28/50\n",
            "7/7 [==============================] - 0s 3ms/step - loss: 0.3046\n",
            "Epoch 29/50\n",
            "7/7 [==============================] - 0s 3ms/step - loss: 0.3003\n",
            "Epoch 30/50\n",
            "7/7 [==============================] - 0s 3ms/step - loss: 0.3113\n",
            "Epoch 31/50\n",
            "7/7 [==============================] - 0s 3ms/step - loss: 0.3088\n",
            "Epoch 32/50\n",
            "7/7 [==============================] - 0s 3ms/step - loss: 0.3095\n",
            "Epoch 33/50\n",
            "7/7 [==============================] - 0s 3ms/step - loss: 0.2831\n",
            "Epoch 34/50\n",
            "7/7 [==============================] - 0s 3ms/step - loss: 0.2784\n",
            "Epoch 35/50\n",
            "7/7 [==============================] - 0s 3ms/step - loss: 0.2668\n",
            "Epoch 36/50\n",
            "7/7 [==============================] - 0s 4ms/step - loss: 0.2932\n",
            "Epoch 37/50\n",
            "7/7 [==============================] - 0s 3ms/step - loss: 0.2661\n",
            "Epoch 38/50\n",
            "7/7 [==============================] - 0s 3ms/step - loss: 0.2631\n",
            "Epoch 39/50\n",
            "7/7 [==============================] - 0s 3ms/step - loss: 0.2632\n",
            "Epoch 40/50\n",
            "7/7 [==============================] - 0s 3ms/step - loss: 0.2489\n",
            "Epoch 41/50\n",
            "7/7 [==============================] - 0s 3ms/step - loss: 0.2533\n",
            "Epoch 42/50\n",
            "7/7 [==============================] - 0s 3ms/step - loss: 0.2609\n",
            "Epoch 43/50\n",
            "7/7 [==============================] - 0s 3ms/step - loss: 0.2490\n",
            "Epoch 44/50\n",
            "7/7 [==============================] - 0s 4ms/step - loss: 0.2364\n",
            "Epoch 45/50\n",
            "7/7 [==============================] - 0s 3ms/step - loss: 0.2357\n",
            "Epoch 46/50\n",
            "7/7 [==============================] - 0s 3ms/step - loss: 0.2366\n",
            "Epoch 47/50\n",
            "7/7 [==============================] - 0s 3ms/step - loss: 0.2193\n",
            "Epoch 48/50\n",
            "7/7 [==============================] - 0s 3ms/step - loss: 0.2179\n",
            "Epoch 49/50\n",
            "7/7 [==============================] - 0s 3ms/step - loss: 0.2084\n",
            "Epoch 50/50\n",
            "7/7 [==============================] - 0s 3ms/step - loss: 0.2089\n",
            "7/7 [==============================] - 0s 3ms/step\n"
          ]
        },
        {
          "output_type": "display_data",
          "data": {
            "text/plain": [
              "<Figure size 432x288 with 1 Axes>"
            ],
            "image/png": "[encoded data removed]"
          },
          "metadata": {
            "needs_background": "light"
          }
        }
      ]
    },
    {
      "cell_type": "markdown",
      "source": [
        "\n",
        "\n",
        "###Tensorflow low level API"
      ],
      "metadata": {
        "id": "Hkg6egfrvTJd"
      }
    },
    {
      "cell_type": "code",
      "source": [
        "!pip install tensorflow"
      ],
      "metadata": {
        "colab": {
          "base_uri": "https://localhost:8080/"
        },
        "id": "kVCN390Tv3d_",
        "outputId": "b538c61d-589c-4d0c-c759-169c59799ce2"
      },
      "execution_count": 30,
      "outputs": [
        {
          "output_type": "stream",
          "name": "stdout",
          "text": [
            "Looking in indexes: https://pypi.org/simple, https://us-python.pkg.dev/colab-wheels/public/simple/\n",
            "Requirement already satisfied: tensorflow in /usr/local/lib/python3.8/dist-packages (2.11.0)\n",
            "Requirement already satisfied: opt-einsum>=2.3.2 in /usr/local/lib/python3.8/dist-packages (from tensorflow) (3.3.0)\n",
            "Requirement already satisfied: gast<=0.4.0,>=0.2.1 in /usr/local/lib/python3.8/dist-packages (from tensorflow) (0.4.0)\n",
            "Requirement already satisfied: absl-py>=1.0.0 in /usr/local/lib/python3.8/dist-packages (from tensorflow) (1.4.0)\n",
            "Requirement already satisfied: tensorflow-io-gcs-filesystem>=0.23.1 in /usr/local/lib/python3.8/dist-packages (from tensorflow) (0.31.0)\n",
            "Requirement already satisfied: astunparse>=1.6.0 in /usr/local/lib/python3.8/dist-packages (from tensorflow) (1.6.3)\n",
            "Requirement already satisfied: flatbuffers>=2.0 in /usr/local/lib/python3.8/dist-packages (from tensorflow) (23.1.21)\n",
            "Requirement already satisfied: tensorflow-estimator<2.12,>=2.11.0 in /usr/local/lib/python3.8/dist-packages (from tensorflow) (2.11.0)\n",
            "Requirement already satisfied: grpcio<2.0,>=1.24.3 in /usr/local/lib/python3.8/dist-packages (from tensorflow) (1.51.3)\n",
            "Requirement already satisfied: typing-extensions>=3.6.6 in /usr/local/lib/python3.8/dist-packages (from tensorflow) (4.5.0)\n",
            "Requirement already satisfied: google-pasta>=0.1.1 in /usr/local/lib/python3.8/dist-packages (from tensorflow) (0.2.0)\n",
            "Requirement already satisfied: libclang>=13.0.0 in /usr/local/lib/python3.8/dist-packages (from tensorflow) (15.0.6.1)\n",
            "Requirement already satisfied: h5py>=2.9.0 in /usr/local/lib/python3.8/dist-packages (from tensorflow) (3.1.0)\n",
            "Requirement already satisfied: numpy>=1.20 in /usr/local/lib/python3.8/dist-packages (from tensorflow) (1.22.4)\n",
            "Requirement already satisfied: packaging in /usr/local/lib/python3.8/dist-packages (from tensorflow) (23.0)\n",
            "Requirement already satisfied: setuptools in /usr/local/lib/python3.8/dist-packages (from tensorflow) (57.4.0)\n",
            "Requirement already satisfied: termcolor>=1.1.0 in /usr/local/lib/python3.8/dist-packages (from tensorflow) (2.2.0)\n",
            "Requirement already satisfied: wrapt>=1.11.0 in /usr/local/lib/python3.8/dist-packages (from tensorflow) (1.15.0)\n",
            "Requirement already satisfied: tensorboard<2.12,>=2.11 in /usr/local/lib/python3.8/dist-packages (from tensorflow) (2.11.2)\n",
            "Requirement already satisfied: six>=1.12.0 in /usr/local/lib/python3.8/dist-packages (from tensorflow) (1.15.0)\n",
            "Requirement already satisfied: keras<2.12,>=2.11.0 in /usr/local/lib/python3.8/dist-packages (from tensorflow) (2.11.0)\n",
            "Requirement already satisfied: protobuf<3.20,>=3.9.2 in /usr/local/lib/python3.8/dist-packages (from tensorflow) (3.19.6)\n",
            "Requirement already satisfied: wheel<1.0,>=0.23.0 in /usr/local/lib/python3.8/dist-packages (from astunparse>=1.6.0->tensorflow) (0.38.4)\n",
            "Requirement already satisfied: markdown>=2.6.8 in /usr/local/lib/python3.8/dist-packages (from tensorboard<2.12,>=2.11->tensorflow) (3.4.1)\n",
            "Requirement already satisfied: tensorboard-plugin-wit>=1.6.0 in /usr/local/lib/python3.8/dist-packages (from tensorboard<2.12,>=2.11->tensorflow) (1.8.1)\n",
            "Requirement already satisfied: werkzeug>=1.0.1 in /usr/local/lib/python3.8/dist-packages (from tensorboard<2.12,>=2.11->tensorflow) (2.2.3)\n",
            "Requirement already satisfied: google-auth<3,>=1.6.3 in /usr/local/lib/python3.8/dist-packages (from tensorboard<2.12,>=2.11->tensorflow) (2.16.2)\n",
            "Requirement already satisfied: tensorboard-data-server<0.7.0,>=0.6.0 in /usr/local/lib/python3.8/dist-packages (from tensorboard<2.12,>=2.11->tensorflow) (0.6.1)\n",
            "Requirement already satisfied: google-auth-oauthlib<0.5,>=0.4.1 in /usr/local/lib/python3.8/dist-packages (from tensorboard<2.12,>=2.11->tensorflow) (0.4.6)\n",
            "Requirement already satisfied: requests<3,>=2.21.0 in /usr/local/lib/python3.8/dist-packages (from tensorboard<2.12,>=2.11->tensorflow) (2.25.1)\n",
            "Requirement already satisfied: cachetools<6.0,>=2.0.0 in /usr/local/lib/python3.8/dist-packages (from google-auth<3,>=1.6.3->tensorboard<2.12,>=2.11->tensorflow) (5.3.0)\n",
            "Requirement already satisfied: rsa<5,>=3.1.4 in /usr/local/lib/python3.8/dist-packages (from google-auth<3,>=1.6.3->tensorboard<2.12,>=2.11->tensorflow) (4.9)\n",
            "Requirement already satisfied: pyasn1-modules>=0.2.1 in /usr/local/lib/python3.8/dist-packages (from google-auth<3,>=1.6.3->tensorboard<2.12,>=2.11->tensorflow) (0.2.8)\n",
            "Requirement already satisfied: requests-oauthlib>=0.7.0 in /usr/local/lib/python3.8/dist-packages (from google-auth-oauthlib<0.5,>=0.4.1->tensorboard<2.12,>=2.11->tensorflow) (1.3.1)\n",
            "Requirement already satisfied: importlib-metadata>=4.4 in /usr/local/lib/python3.8/dist-packages (from markdown>=2.6.8->tensorboard<2.12,>=2.11->tensorflow) (6.0.0)\n",
            "Requirement already satisfied: idna<3,>=2.5 in /usr/local/lib/python3.8/dist-packages (from requests<3,>=2.21.0->tensorboard<2.12,>=2.11->tensorflow) (2.10)\n",
            "Requirement already satisfied: chardet<5,>=3.0.2 in /usr/local/lib/python3.8/dist-packages (from requests<3,>=2.21.0->tensorboard<2.12,>=2.11->tensorflow) (4.0.0)\n",
            "Requirement already satisfied: urllib3<1.27,>=1.21.1 in /usr/local/lib/python3.8/dist-packages (from requests<3,>=2.21.0->tensorboard<2.12,>=2.11->tensorflow) (1.26.14)\n",
            "Requirement already satisfied: certifi>=2017.4.17 in /usr/local/lib/python3.8/dist-packages (from requests<3,>=2.21.0->tensorboard<2.12,>=2.11->tensorflow) (2022.12.7)\n",
            "Requirement already satisfied: MarkupSafe>=2.1.1 in /usr/local/lib/python3.8/dist-packages (from werkzeug>=1.0.1->tensorboard<2.12,>=2.11->tensorflow) (2.1.2)\n",
            "Requirement already satisfied: zipp>=0.5 in /usr/local/lib/python3.8/dist-packages (from importlib-metadata>=4.4->markdown>=2.6.8->tensorboard<2.12,>=2.11->tensorflow) (3.15.0)\n",
            "Requirement already satisfied: pyasn1<0.5.0,>=0.4.6 in /usr/local/lib/python3.8/dist-packages (from pyasn1-modules>=0.2.1->google-auth<3,>=1.6.3->tensorboard<2.12,>=2.11->tensorflow) (0.4.8)\n",
            "Requirement already satisfied: oauthlib>=3.0.0 in /usr/local/lib/python3.8/dist-packages (from requests-oauthlib>=0.7.0->google-auth-oauthlib<0.5,>=0.4.1->tensorboard<2.12,>=2.11->tensorflow) (3.2.2)\n"
          ]
        }
      ]
    },
    {
      "cell_type": "code",
      "source": [
        "class Linear(Layer):\n",
        "  \"\"\"y = w.x + b\"\"\"\n",
        "\n",
        "  def __init__(self, units=32, input_dim=32):\n",
        "      super(Linear, self).__init__()\n",
        "      w_init = tf.random_normal_initializer()\n",
        "      self.w = tf.Variable(\n",
        "          initial_value=w_init(shape=(input_dim, units), dtype='float32'),\n",
        "          trainable=True)\n",
        "      b_init = tf.zeros_initializer()\n",
        "      self.b = tf.Variable(\n",
        "          initial_value=b_init(shape=(units,), dtype='float32'),\n",
        "          trainable=True)\n",
        "\n",
        "  def call(self, inputs):\n",
        "      return tf.matmul(inputs, self.w) + self.b\n",
        "\n",
        "# Instantiate our layer.\n",
        "linear_layer = Linear(4, 2)"
      ],
      "metadata": {
        "id": "nhzJ4q5rx7z_"
      },
      "execution_count": 36,
      "outputs": []
    },
    {
      "cell_type": "code",
      "source": [
        "y = linear_layer(tf.ones((2, 2)))\n",
        "assert y.shape == (2, 4)"
      ],
      "metadata": {
        "id": "kC_6jeZ8zktz"
      },
      "execution_count": 37,
      "outputs": []
    },
    {
      "cell_type": "code",
      "source": [
        "# Weights are automatically tracked under the `weights` property.\n",
        "assert linear_layer.weights == [linear_layer.w, linear_layer.b]"
      ],
      "metadata": {
        "id": "V6_OJxvNzm8m"
      },
      "execution_count": 38,
      "outputs": []
    },
    {
      "cell_type": "code",
      "source": [
        "from tensorflow.keras import layers\n",
        "from tensorflow.keras.layers import Layer\n",
        "import tensorflow as tf\n",
        "\n",
        "# Prepare a dataset.\n",
        "(x_train, y_train), (x_test, y_test) = tf.keras.datasets.mnist.load_data()\n",
        "x_train = x_train[:].reshape(60000, 784).astype('float32') / 255\n",
        "dataset = tf.data.Dataset.from_tensor_slices((x_train, y_train))\n",
        "dataset = dataset.shuffle(buffer_size=1024).batch(64)\n",
        "\n",
        "# Instantiate a simple classification model\n",
        "model = tf.keras.Sequential([\n",
        "  layers.Dense(256, activation=tf.nn.relu),\n",
        "  layers.Dense(256, activation=tf.nn.relu),\n",
        "  layers.Dense(10)\n",
        "])\n",
        "\n",
        "# Instantiate a logistic loss function that expects integer targets.\n",
        "loss = tf.keras.losses.SparseCategoricalCrossentropy(from_logits=True)\n",
        "\n",
        "# Instantiate an accuracy metric.\n",
        "accuracy = tf.keras.metrics.SparseCategoricalAccuracy()\n",
        "\n",
        "# Instantiate an optimizer.\n",
        "optimizer = tf.keras.optimizers.Adam()\n",
        "\n",
        "# Iterate over the batches of the dataset.\n",
        "for step, (x, y) in enumerate(dataset):\n",
        "  # Open a GradientTape.\n",
        "  with tf.GradientTape() as tape:\n",
        "\n",
        "    # Forward pass.\n",
        "    logits = model(x)\n",
        "\n",
        "    # Loss value for this batch.\n",
        "    loss_value = loss(y, logits)\n",
        "     \n",
        "  # Get gradients of loss wrt the weights.\n",
        "  gradients = tape.gradient(loss_value, model.trainable_weights)\n",
        "  \n",
        "  # Update the weights of our linear layer.\n",
        "  optimizer.apply_gradients(zip(gradients, model.trainable_weights))\n",
        "\n",
        "  # Update the running accuracy.\n",
        "  accuracy.update_state(y, logits)\n",
        "  \n",
        "  # Logging.\n",
        "  if step % 100 == 0:\n",
        "    print('Step:', step)\n",
        "    print('Loss from last step: %.3f' % loss_value)\n",
        "    print('Total running accuracy so far: %.3f' % accuracy.result())"
      ],
      "metadata": {
        "colab": {
          "base_uri": "https://localhost:8080/"
        },
        "id": "c8ht0Vc0S_b7",
        "outputId": "766454a9-fdea-45e5-b756-0b8301b17e0a"
      },
      "execution_count": 39,
      "outputs": [
        {
          "output_type": "stream",
          "name": "stdout",
          "text": [
            "Step: 0\n",
            "Loss from last step: 2.328\n",
            "Total running accuracy so far: 0.062\n",
            "Step: 100\n",
            "Loss from last step: 0.314\n",
            "Total running accuracy so far: 0.848\n",
            "Step: 200\n",
            "Loss from last step: 0.210\n",
            "Total running accuracy so far: 0.881\n",
            "Step: 300\n",
            "Loss from last step: 0.132\n",
            "Total running accuracy so far: 0.900\n",
            "Step: 400\n",
            "Loss from last step: 0.195\n",
            "Total running accuracy so far: 0.911\n",
            "Step: 500\n",
            "Loss from last step: 0.117\n",
            "Total running accuracy so far: 0.918\n",
            "Step: 600\n",
            "Loss from last step: 0.140\n",
            "Total running accuracy so far: 0.924\n",
            "Step: 700\n",
            "Loss from last step: 0.045\n",
            "Total running accuracy so far: 0.929\n",
            "Step: 800\n",
            "Loss from last step: 0.173\n",
            "Total running accuracy so far: 0.932\n",
            "Step: 900\n",
            "Loss from last step: 0.113\n",
            "Total running accuracy so far: 0.935\n"
          ]
        }
      ]
    },
    {
      "cell_type": "markdown",
      "source": [
        "###High Level API"
      ],
      "metadata": {
        "id": "yDSETvlTQE6A"
      }
    },
    {
      "cell_type": "code",
      "source": [
        "# Reuse the Linear class\n",
        "# with a `build` method that we defined above.\n",
        "\n",
        "class MLP(Layer):\n",
        "    \"\"\"Simple stack of Linear layers.\"\"\"\n",
        "\n",
        "    def __init__(self):\n",
        "        super(MLP, self).__init__()\n",
        "        self.linear_1 = Linear(32)\n",
        "        self.linear_2 = Linear(32)\n",
        "        self.linear_3 = Linear(10)\n",
        "\n",
        "    def call(self, inputs):\n",
        "        x = self.linear_1(inputs)\n",
        "        x = tf.nn.relu(x)\n",
        "        x = self.linear_2(x)\n",
        "        x = tf.nn.relu(x)\n",
        "        return self.linear_3(x)\n",
        "\n",
        "mlp = MLP()\n",
        "\n",
        "# The first call to the `mlp` object will create the weights.\n",
        "y = mlp(tf.ones(shape=(3, 32)))\n",
        "\n",
        "# Weights are recursively tracked.\n",
        "assert len(mlp.weights) == 6"
      ],
      "metadata": {
        "id": "4pjMn5YbzwBO"
      },
      "execution_count": 41,
      "outputs": []
    },
    {
      "cell_type": "code",
      "source": [
        "from tensorflow.keras.layers import Layer\n",
        "\n",
        "class Dropout(Layer):\n",
        "  \n",
        "  def __init__(self, rate):\n",
        "    super(Dropout, self).__init__()\n",
        "    self.rate = rate\n",
        "\n",
        "  def call(self, inputs, training=None):\n",
        "    if training:\n",
        "      return tf.nn.dropout(inputs, rate=self.rate)\n",
        "    return inputs\n",
        "\n",
        "class MLPWithDropout(Layer):\n",
        "\n",
        "  def __init__(self):\n",
        "      super(MLPWithDropout, self).__init__()\n",
        "      self.linear_1 = Linear(32)\n",
        "      self.dropout = Dropout(0.5)\n",
        "      self.linear_3 = Linear(10)\n",
        "\n",
        "  def call(self, inputs, training=None):\n",
        "      x = self.linear_1(inputs)\n",
        "      x = tf.nn.relu(x)\n",
        "      x = self.dropout(x, training=training)\n",
        "      return self.linear_3(x)\n",
        "    \n",
        "mlp = MLPWithDropout()\n",
        "y_train = mlp(tf.ones((32, 32)), training=True)\n",
        "y_test = mlp(tf.ones((32, 32)), training=False)"
      ],
      "metadata": {
        "id": "S7XSZyQMzv-0"
      },
      "execution_count": 46,
      "outputs": []
    },
    {
      "cell_type": "code",
      "source": [
        "inputs = tf.keras.Input(shape=(32,))\n",
        "\n",
        "# We call layers on these \"type\" objects\n",
        "# and they return updated types (new shapes/dtypes).\n",
        "x = Linear(32)(inputs) # We are reusing the Linear layer we defined earlier.\n",
        "x = Dropout(0.5)(x) # We are reusing the Dropout layer we defined earlier.\n",
        "outputs = Linear(10)(x)\n",
        "\n",
        "# A functional `Model` can be defined by specifying inputs and outputs.\n",
        "# A model is itself a layer like any other.\n",
        "model = tf.keras.Model(inputs, outputs)\n",
        "\n",
        "# A functional model already has weights, before being called on any data.\n",
        "# That's because we defined its input shape in advance (in `Input`).\n",
        "assert len(model.weights) == 4\n",
        "\n",
        "# Let's call our model on some data.\n",
        "y = model(tf.ones((2, 32)))\n",
        "assert y.shape == (2, 10)"
      ],
      "metadata": {
        "id": "JZZxlRrbzv7Y"
      },
      "execution_count": 50,
      "outputs": []
    },
    {
      "cell_type": "code",
      "source": [
        "from tensorflow.keras import Sequential\n",
        "\n",
        "model = Sequential([Linear(32), Dropout(0.5), Linear(10)])\n",
        "\n",
        "y = model(tf.ones((2, 32)))\n",
        "assert y.shape == (2, 10)"
      ],
      "metadata": {
        "id": "tlzEmk7Szv4o"
      },
      "execution_count": 51,
      "outputs": []
    },
    {
      "cell_type": "code",
      "source": [
        "bce = tf.keras.losses.BinaryCrossentropy()\n",
        "y_true = [0., 0., 1., 1.]  # Targets\n",
        "y_pred = [1., 1., 1., 0.]  # Predictions\n",
        "loss = bce(y_true, y_pred)\n",
        "print('Loss:', loss.numpy())"
      ],
      "metadata": {
        "colab": {
          "base_uri": "https://localhost:8080/"
        },
        "id": "lvsTjstCzv1t",
        "outputId": "eb899e30-5acf-4d6b-b4f4-8c8ba93a8661"
      },
      "execution_count": 52,
      "outputs": [
        {
          "output_type": "stream",
          "name": "stdout",
          "text": [
            "Loss: 11.522857\n"
          ]
        }
      ]
    },
    {
      "cell_type": "code",
      "source": [
        "m = tf.keras.metrics.AUC()\n",
        "m.update_state([0, 1, 1, 1], [0, 1, 0, 0])\n",
        "print('Intermediate result:', m.result().numpy())\n",
        "\n",
        "m.update_state([1, 1, 1, 1], [0, 1, 1, 0])\n",
        "print('Final result:', m.result().numpy())"
      ],
      "metadata": {
        "colab": {
          "base_uri": "https://localhost:8080/"
        },
        "id": "SPw_C3G40JHh",
        "outputId": "4129c13d-0de4-418d-bef6-abee4fec5505"
      },
      "execution_count": 53,
      "outputs": [
        {
          "output_type": "stream",
          "name": "stdout",
          "text": [
            "Intermediate result: 0.6666667\n",
            "Final result: 0.71428573\n"
          ]
        }
      ]
    },
    {
      "cell_type": "code",
      "source": [
        "class BinaryTruePositives(tf.keras.metrics.Metric):\n",
        "\n",
        "  def __init__(self, name='binary_true_positives', **kwargs):\n",
        "    super(BinaryTruePositives, self).__init__(name=name, **kwargs)\n",
        "    self.true_positives = self.add_weight(name='tp', initializer='zeros')\n",
        "\n",
        "  def update_state(self, y_true, y_pred, sample_weight=None):\n",
        "    y_true = tf.cast(y_true, tf.bool)\n",
        "    y_pred = tf.cast(y_pred, tf.bool)\n",
        "\n",
        "    values = tf.logical_and(tf.equal(y_true, True), tf.equal(y_pred, True))\n",
        "    values = tf.cast(values, self.dtype)\n",
        "    if sample_weight is not None:\n",
        "      sample_weight = tf.cast(sample_weight, self.dtype)\n",
        "      values = tf.multiply(values, sample_weight)\n",
        "    self.true_positives.assign_add(tf.reduce_sum(values))\n",
        "\n",
        "  def result(self):\n",
        "    return self.true_positives\n",
        "\n",
        "  def reset_states(self):\n",
        "    self.true_positive.assign(0)\n",
        "\n",
        "m = BinaryTruePositives()\n",
        "m.update_state([0, 1, 1, 1], [0, 1, 0, 0])\n",
        "print('Intermediate result:', m.result().numpy())\n",
        "\n",
        "m.update_state([1, 1, 1, 1], [0, 1, 1, 0])\n",
        "print('Final result:', m.result().numpy())"
      ],
      "metadata": {
        "colab": {
          "base_uri": "https://localhost:8080/"
        },
        "id": "dMJmrAZr0Lhh",
        "outputId": "e7a4a8e5-8dd1-479e-efb9-6a53203a31ad"
      },
      "execution_count": 54,
      "outputs": [
        {
          "output_type": "stream",
          "name": "stdout",
          "text": [
            "Intermediate result: 1.0\n",
            "Final result: 3.0\n"
          ]
        }
      ]
    },
    {
      "cell_type": "markdown",
      "source": [
        "Optimizer classes & a quick end-to-end training loop"
      ],
      "metadata": {
        "id": "ItkL6TVs2uUw"
      }
    },
    {
      "cell_type": "code",
      "source": [
        "from tensorflow.keras import layers\n",
        "\n",
        "# Prepare a dataset.\n",
        "(x_train, y_train), (x_test, y_test) = tf.keras.datasets.mnist.load_data()\n",
        "x_train = x_train[:].reshape(60000, 784).astype('float32') / 255\n",
        "dataset = tf.data.Dataset.from_tensor_slices((x_train, y_train))\n",
        "dataset = dataset.shuffle(buffer_size=1024).batch(64)\n",
        "\n",
        "# Instantiate a simple classification model\n",
        "model = tf.keras.Sequential([\n",
        "  layers.Dense(256, activation=tf.nn.relu),\n",
        "  layers.Dense(256, activation=tf.nn.relu),\n",
        "  layers.Dense(10)\n",
        "])\n",
        "\n",
        "# Instantiate a logistic loss function that expects integer targets.\n",
        "loss = tf.keras.losses.SparseCategoricalCrossentropy(from_logits=True)\n",
        "\n",
        "# Instantiate an accuracy metric.\n",
        "accuracy = tf.keras.metrics.SparseCategoricalAccuracy()\n",
        "\n",
        "# Instantiate an optimizer.\n",
        "optimizer = tf.keras.optimizers.Adam()\n",
        "\n",
        "# Iterate over the batches of the dataset.\n",
        "for step, (x, y) in enumerate(dataset):\n",
        "  # Open a GradientTape.\n",
        "  with tf.GradientTape() as tape:\n",
        "\n",
        "    # Forward pass.\n",
        "    logits = model(x)\n",
        "\n",
        "    # Loss value for this batch.\n",
        "    loss_value = loss(y, logits)\n",
        "     \n",
        "  # Get gradients of loss wrt the weights.\n",
        "  gradients = tape.gradient(loss_value, model.trainable_weights)\n",
        "  \n",
        "  # Update the weights of our linear layer.\n",
        "  optimizer.apply_gradients(zip(gradients, model.trainable_weights))\n",
        "\n",
        "  # Update the running accuracy.\n",
        "  accuracy.update_state(y, logits)\n",
        "  \n",
        "  # Logging.\n",
        "  if step % 100 == 0:\n",
        "    print('Step:', step)\n",
        "    print('Loss from last step: %.3f' % loss_value)\n",
        "    print('Total running accuracy so far: %.3f' % accuracy.result())"
      ],
      "metadata": {
        "colab": {
          "base_uri": "https://localhost:8080/"
        },
        "id": "nJtx52dx0asa",
        "outputId": "72522b87-1b96-45ac-a1ad-cf820a0e8dd8"
      },
      "execution_count": 55,
      "outputs": [
        {
          "output_type": "stream",
          "name": "stdout",
          "text": [
            "Step: 0\n",
            "Loss from last step: 2.337\n",
            "Total running accuracy so far: 0.062\n",
            "Step: 100\n",
            "Loss from last step: 0.305\n",
            "Total running accuracy so far: 0.839\n",
            "Step: 200\n",
            "Loss from last step: 0.413\n",
            "Total running accuracy so far: 0.878\n",
            "Step: 300\n",
            "Loss from last step: 0.213\n",
            "Total running accuracy so far: 0.896\n",
            "Step: 400\n",
            "Loss from last step: 0.217\n",
            "Total running accuracy so far: 0.908\n",
            "Step: 500\n",
            "Loss from last step: 0.191\n",
            "Total running accuracy so far: 0.916\n",
            "Step: 600\n",
            "Loss from last step: 0.138\n",
            "Total running accuracy so far: 0.923\n",
            "Step: 700\n",
            "Loss from last step: 0.123\n",
            "Total running accuracy so far: 0.928\n",
            "Step: 800\n",
            "Loss from last step: 0.188\n",
            "Total running accuracy so far: 0.931\n",
            "Step: 900\n",
            "Loss from last step: 0.108\n",
            "Total running accuracy so far: 0.935\n"
          ]
        }
      ]
    },
    {
      "cell_type": "markdown",
      "source": [
        "Reuse SparseCategoricalAccuracy metric instance to implement a testing loop:"
      ],
      "metadata": {
        "id": "hY34wjb920y1"
      }
    },
    {
      "cell_type": "code",
      "source": [
        "x_test = x_test[:].reshape(10000, 784).astype('float32') / 255\n",
        "test_dataset = tf.data.Dataset.from_tensor_slices((x_test, y_test))\n",
        "test_dataset = test_dataset.batch(128)\n",
        "\n",
        "accuracy.reset_states()  # This clears the internal state of the metric\n",
        "\n",
        "for step, (x, y) in enumerate(test_dataset):\n",
        "  logits = model(x)\n",
        "  accuracy.update_state(y, logits)\n",
        "\n",
        "print('Final test accuracy: %.3f' % accuracy.result())"
      ],
      "metadata": {
        "colab": {
          "base_uri": "https://localhost:8080/"
        },
        "id": "_ByyYq-T0dcp",
        "outputId": "342eb40f-f828-4045-bdfa-5d09db54bd9f"
      },
      "execution_count": 56,
      "outputs": [
        {
          "output_type": "stream",
          "name": "stdout",
          "text": [
            "Final test accuracy: 0.964\n"
          ]
        }
      ]
    },
    {
      "cell_type": "markdown",
      "source": [
        "###Trying out End-to-end Variational AutoEncoder (VAE)\n",
        "\n",
        "built-in training loops"
      ],
      "metadata": {
        "id": "VAhwdmJT3RDC"
      }
    },
    {
      "cell_type": "code",
      "source": [
        "# Prepare a dataset.\n",
        "(x_train, y_train), (x_test, y_test) = tf.keras.datasets.mnist.load_data()\n",
        "x_train = x_train.reshape(60000, 784).astype('float32') / 255\n",
        "dataset = tf.data.Dataset.from_tensor_slices((x_train, y_train))\n",
        "dataset = dataset.shuffle(buffer_size=1024).batch(64)\n",
        "\n",
        "# Instantiate a simple classification model\n",
        "model = tf.keras.Sequential([\n",
        "  layers.Dense(256, activation=tf.nn.relu),\n",
        "  layers.Dense(256, activation=tf.nn.relu),\n",
        "  layers.Dense(10)\n",
        "])\n",
        "\n",
        "# Instantiate a logistic loss function that expects integer targets.\n",
        "loss = tf.keras.losses.SparseCategoricalCrossentropy(from_logits=True)\n",
        "\n",
        "# Instantiate an accuracy metric.\n",
        "accuracy = tf.keras.metrics.SparseCategoricalAccuracy()\n",
        "\n",
        "# Instantiate an optimizer.\n",
        "optimizer = tf.keras.optimizers.Adam()"
      ],
      "metadata": {
        "id": "BR-7QDWu0pbQ"
      },
      "execution_count": 60,
      "outputs": []
    },
    {
      "cell_type": "markdown",
      "source": [
        "call `compile` to configure the optimizer, loss, and metrics to monitor."
      ],
      "metadata": {
        "id": "1gBR2Huw3ZjS"
      }
    },
    {
      "cell_type": "code",
      "source": [
        "model.compile(optimizer=optimizer, loss=loss, metrics=[accuracy])"
      ],
      "metadata": {
        "id": "Rjn74IrJ0rup"
      },
      "execution_count": 61,
      "outputs": []
    },
    {
      "cell_type": "markdown",
      "source": [
        "Then we call `fit` on our model to pass it the data:"
      ],
      "metadata": {
        "id": "5VFGwlvb3hub"
      }
    },
    {
      "cell_type": "code",
      "source": [
        "model.fit(dataset, epochs=3)"
      ],
      "metadata": {
        "colab": {
          "base_uri": "https://localhost:8080/"
        },
        "id": "k1NCRKA30tQ0",
        "outputId": "fe5bb053-6d85-4e99-901b-53c920b992e3"
      },
      "execution_count": 62,
      "outputs": [
        {
          "output_type": "stream",
          "name": "stdout",
          "text": [
            "Epoch 1/3\n",
            "938/938 [==============================] - 14s 14ms/step - loss: 0.2219 - sparse_categorical_accuracy: 0.9360\n",
            "Epoch 2/3\n",
            "938/938 [==============================] - 9s 9ms/step - loss: 0.0880 - sparse_categorical_accuracy: 0.9732\n",
            "Epoch 3/3\n",
            "938/938 [==============================] - 8s 8ms/step - loss: 0.0573 - sparse_categorical_accuracy: 0.9822\n"
          ]
        },
        {
          "output_type": "execute_result",
          "data": {
            "text/plain": [
              "<keras.callbacks.History at 0x7f566bdd4520>"
            ]
          },
          "metadata": {},
          "execution_count": 62
        }
      ]
    },
    {
      "cell_type": "markdown",
      "source": [
        "Testing the above model"
      ],
      "metadata": {
        "id": "dqmEg4VF3kWw"
      }
    },
    {
      "cell_type": "code",
      "source": [
        "x_test = x_test[:].reshape(10000, 784).astype('float32') / 255\n",
        "test_dataset = tf.data.Dataset.from_tensor_slices((x_test, y_test))\n",
        "test_dataset = test_dataset.batch(128)\n",
        "\n",
        "loss, acc = model.evaluate(test_dataset)\n",
        "print('loss: %.3f - acc: %.3f' % (loss, acc))"
      ],
      "metadata": {
        "colab": {
          "base_uri": "https://localhost:8080/"
        },
        "id": "xAR3Jz130vL9",
        "outputId": "2b6546d7-cae8-4e12-981f-ef855fb6d461"
      },
      "execution_count": 63,
      "outputs": [
        {
          "output_type": "stream",
          "name": "stdout",
          "text": [
            "79/79 [==============================] - 1s 4ms/step - loss: 0.1064 - sparse_categorical_accuracy: 0.9675\n",
            "loss: 0.106 - acc: 0.967\n"
          ]
        }
      ]
    },
    {
      "cell_type": "markdown",
      "source": [
        "Monitor loss and metrics on some validation data during `fit`.\n",
        "\n",
        "Also, calling fit method"
      ],
      "metadata": {
        "id": "le7rbJZq3rOy"
      }
    },
    {
      "cell_type": "code",
      "source": [
        "(x_train, y_train), (x_test, y_test) = tf.keras.datasets.mnist.load_data()\n",
        "x_train = x_train.reshape(60000, 784).astype('float32') / 255\n",
        "\n",
        "num_val_samples = 10000\n",
        "x_val = x_train[-num_val_samples:]\n",
        "y_val = y_train[-num_val_samples:]\n",
        "x_train = x_train[:-num_val_samples]\n",
        "y_train = y_train[:-num_val_samples]\n",
        "\n",
        "# Instantiate a simple classification model\n",
        "model = tf.keras.Sequential([\n",
        "  layers.Dense(256, activation=tf.nn.relu),\n",
        "  layers.Dense(256, activation=tf.nn.relu),\n",
        "  layers.Dense(10)\n",
        "])\n",
        "\n",
        "# Instantiate a logistic loss function that expects integer targets.\n",
        "loss = tf.keras.losses.SparseCategoricalCrossentropy(from_logits=True)\n",
        "\n",
        "# Instantiate an accuracy metric.\n",
        "accuracy = tf.keras.metrics.SparseCategoricalAccuracy()\n",
        "\n",
        "# Instantiate an optimizer.\n",
        "optimizer = tf.keras.optimizers.Adam()\n",
        "\n",
        "model.compile(optimizer=optimizer,\n",
        "              loss=loss,\n",
        "              metrics=[accuracy])\n",
        "model.fit(x_train, y_train,\n",
        "          validation_data=(x_val, y_val),\n",
        "          epochs=3,\n",
        "          batch_size=64)"
      ],
      "metadata": {
        "colab": {
          "base_uri": "https://localhost:8080/"
        },
        "id": "OxDLSgMO0xeD",
        "outputId": "7c28900e-a472-4b44-e8e2-8dea0d7de999"
      },
      "execution_count": 64,
      "outputs": [
        {
          "output_type": "stream",
          "name": "stdout",
          "text": [
            "Epoch 1/3\n",
            "782/782 [==============================] - 9s 9ms/step - loss: 0.2445 - sparse_categorical_accuracy: 0.9277 - val_loss: 0.1131 - val_sparse_categorical_accuracy: 0.9669\n",
            "Epoch 2/3\n",
            "782/782 [==============================] - 7s 9ms/step - loss: 0.0929 - sparse_categorical_accuracy: 0.9710 - val_loss: 0.0901 - val_sparse_categorical_accuracy: 0.9742\n",
            "Epoch 3/3\n",
            "782/782 [==============================] - 7s 9ms/step - loss: 0.0611 - sparse_categorical_accuracy: 0.9806 - val_loss: 0.0823 - val_sparse_categorical_accuracy: 0.9753\n"
          ]
        },
        {
          "output_type": "execute_result",
          "data": {
            "text/plain": [
              "<keras.callbacks.History at 0x7f56fc9e0070>"
            ]
          },
          "metadata": {},
          "execution_count": 64
        }
      ]
    },
    {
      "cell_type": "code",
      "source": [
        "import tensorflow as tf\n",
        "\n",
        "input_dim = 2\n",
        "output_dim = 1\n",
        "learning_rate = 0.01\n",
        "\n",
        "# This is our weight matrix\n",
        "w = tf.Variable(tf.random.uniform(shape=(input_dim, output_dim)))\n",
        "# This is our bias vector\n",
        "b = tf.Variable(tf.zeros(shape=(output_dim,)))\n",
        "\n",
        "def compute_predictions(features):\n",
        "  return tf.matmul(features, w) + b\n",
        "\n",
        "def compute_loss(labels, predictions):\n",
        "  return tf.reduce_mean(tf.square(labels - predictions))\n",
        "\n",
        "def train_on_batch(x, y):\n",
        "  with tf.GradientTape() as tape:\n",
        "    predictions = compute_predictions(x)\n",
        "    loss = compute_loss(y, predictions)\n",
        "    # Note that `tape.gradient` works with a list as well (w, b).\n",
        "    dloss_dw, dloss_db = tape.gradient(loss, [w, b])\n",
        "  w.assign_sub(learning_rate * dloss_dw)\n",
        "  b.assign_sub(learning_rate * dloss_db)\n",
        "  return loss"
      ],
      "metadata": {
        "id": "yQNFHeu_Zcrj"
      },
      "execution_count": 65,
      "outputs": []
    },
    {
      "cell_type": "markdown",
      "source": [
        "###Trying out dataset generation and tf.function"
      ],
      "metadata": {
        "id": "ZQoxFyYsbPFi"
      }
    },
    {
      "cell_type": "code",
      "source": [
        "import numpy as np\n",
        "import random\n",
        "import matplotlib.pyplot as plt\n",
        "%matplotlib inline\n",
        "\n",
        "# Prepare a dataset.\n",
        "num_samples = 10000\n",
        "negative_samples = np.random.multivariate_normal(\n",
        "    mean=[0, 3], cov=[[1, 0.5],[0.5, 1]], size=num_samples)\n",
        "positive_samples = np.random.multivariate_normal(\n",
        "    mean=[3, 0], cov=[[1, 0.5],[0.5, 1]], size=num_samples)\n",
        "features = np.vstack((negative_samples, positive_samples)).astype(np.float32)\n",
        "labels = np.vstack((np.zeros((num_samples, 1), dtype='float32'),\n",
        "                    np.ones((num_samples, 1), dtype='float32')))\n",
        "\n",
        "plt.scatter(features[:, 0], features[:, 1], c=labels[:, 0])"
      ],
      "metadata": {
        "colab": {
          "base_uri": "https://localhost:8080/",
          "height": 282
        },
        "id": "hgwGfdg_aw-s",
        "outputId": "501a7c25-7b61-49da-a0ce-6e945da9909a"
      },
      "execution_count": 66,
      "outputs": [
        {
          "output_type": "execute_result",
          "data": {
            "text/plain": [
              "<matplotlib.collections.PathCollection at 0x7f56fc86c730>"
            ]
          },
          "metadata": {},
          "execution_count": 66
        },
        {
          "output_type": "display_data",
          "data": {
            "text/plain": [
              "<Figure size 432x288 with 1 Axes>"
            ],
            "image/png": "[encoded data removed]"
          },
          "metadata": {
            "needs_background": "light"
          }
        }
      ]
    },
    {
      "cell_type": "code",
      "source": [
        "# Shuffle the data.\n",
        "indices = np.random.permutation(len(features))\n",
        "features = features[indices]\n",
        "labels = labels[indices]\n",
        "\n",
        "# Create a tf.data.Dataset object for easy batched iteration\n",
        "dataset = tf.data.Dataset.from_tensor_slices((features, labels))\n",
        "dataset = dataset.shuffle(buffer_size=1024).batch(256)\n",
        "\n",
        "for epoch in range(10):\n",
        "  for step, (x, y) in enumerate(dataset):\n",
        "    loss = train_on_batch(x, y)\n",
        "  print('Epoch %d: last batch loss = %.4f' % (epoch, float(loss)))"
      ],
      "metadata": {
        "colab": {
          "base_uri": "https://localhost:8080/"
        },
        "id": "TlvPzpW3azHw",
        "outputId": "34a65ecb-0adb-4ce9-c039-ce5e1a7834aa"
      },
      "execution_count": 67,
      "outputs": [
        {
          "output_type": "stream",
          "name": "stdout",
          "text": [
            "Epoch 0: last batch loss = 0.0675\n",
            "Epoch 1: last batch loss = 0.0634\n",
            "Epoch 2: last batch loss = 0.0218\n",
            "Epoch 3: last batch loss = 0.0470\n",
            "Epoch 4: last batch loss = 0.0291\n",
            "Epoch 5: last batch loss = 0.0184\n",
            "Epoch 6: last batch loss = 0.0271\n",
            "Epoch 7: last batch loss = 0.0138\n",
            "Epoch 8: last batch loss = 0.0186\n",
            "Epoch 9: last batch loss = 0.0233\n"
          ]
        }
      ]
    },
    {
      "cell_type": "code",
      "source": [
        "predictions = compute_predictions(features)\n",
        "plt.scatter(features[:, 0], features[:, 1], c=predictions[:, 0] > 0.5)"
      ],
      "metadata": {
        "colab": {
          "base_uri": "https://localhost:8080/",
          "height": 282
        },
        "id": "eYmEGjnGa1CR",
        "outputId": "8ab517a3-88a4-4d7b-876f-9dd002d4296e"
      },
      "execution_count": 68,
      "outputs": [
        {
          "output_type": "execute_result",
          "data": {
            "text/plain": [
              "<matplotlib.collections.PathCollection at 0x7f56fc845490>"
            ]
          },
          "metadata": {},
          "execution_count": 68
        },
        {
          "output_type": "display_data",
          "data": {
            "text/plain": [
              "<Figure size 432x288 with 1 Axes>"
            ],
            "image/png": "[encoded data removed]"
          },
          "metadata": {
            "needs_background": "light"
          }
        }
      ]
    },
    {
      "cell_type": "code",
      "source": [
        "import time\n",
        "\n",
        "t0 = time.time()\n",
        "for epoch in range(20):\n",
        "  for step, (x, y) in enumerate(dataset):\n",
        "    loss = train_on_batch(x, y)\n",
        "t_end = time.time() - t0\n",
        "print('Time per epoch: %.3f s' % (t_end / 20,))\n"
      ],
      "metadata": {
        "colab": {
          "base_uri": "https://localhost:8080/"
        },
        "id": "HMYcrJ9na3XC",
        "outputId": "8db02091-cce4-410f-e819-a694be4ba26b"
      },
      "execution_count": 69,
      "outputs": [
        {
          "output_type": "stream",
          "name": "stdout",
          "text": [
            "Time per epoch: 0.575 s\n"
          ]
        }
      ]
    },
    {
      "cell_type": "code",
      "source": [
        "@tf.function\n",
        "def train_on_batch(x, y):\n",
        "  with tf.GradientTape() as tape:\n",
        "    predictions = compute_predictions(x)\n",
        "    loss = compute_loss(y, predictions)\n",
        "    dloss_dw, dloss_db = tape.gradient(loss, [w, b])\n",
        "  w.assign_sub(learning_rate * dloss_dw)\n",
        "  b.assign_sub(learning_rate * dloss_db)\n",
        "  return loss"
      ],
      "metadata": {
        "id": "KMGlE-Y3a5QY"
      },
      "execution_count": 70,
      "outputs": []
    },
    {
      "cell_type": "code",
      "source": [
        "t0 = time.time()\n",
        "for epoch in range(20):\n",
        "  for step, (x, y) in enumerate(dataset):\n",
        "    loss = train_on_batch(x, y)\n",
        "t_end = time.time() - t0\n",
        "print('Time per epoch: %.3f s' % (t_end / 20,))"
      ],
      "metadata": {
        "colab": {
          "base_uri": "https://localhost:8080/"
        },
        "id": "TJrW_0HXa7Ef",
        "outputId": "07690f45-fdce-4844-f05a-58f6695d4620"
      },
      "execution_count": 71,
      "outputs": [
        {
          "output_type": "stream",
          "name": "stdout",
          "text": [
            "Time per epoch: 0.212 s\n"
          ]
        }
      ]
    },
    {
      "cell_type": "code",
      "source": [],
      "metadata": {
        "id": "4v7g7Zgaa89a"
      },
      "execution_count": null,
      "outputs": []
    }
  ]
}