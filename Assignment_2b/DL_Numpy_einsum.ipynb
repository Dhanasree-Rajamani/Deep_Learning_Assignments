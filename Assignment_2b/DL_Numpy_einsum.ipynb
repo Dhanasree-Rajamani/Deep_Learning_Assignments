{
  "nbformat": 4,
  "nbformat_minor": 0,
  "metadata": {
    "colab": {
      "provenance": [],
      "include_colab_link": true
    },
    "kernelspec": {
      "name": "python3",
      "display_name": "Python 3"
    },
    "language_info": {
      "name": "python"
    }
  },
  "cells": [
    {
      "cell_type": "markdown",
      "metadata": {
        "id": "view-in-github",
        "colab_type": "text"
      },
      "source": [
        "<a href=\"https://colab.research.google.com/github/Dhanasree-Rajamani/Deep_Learning_Assignments/blob/main/Assignment_2b/DL_Numpy_einsum.ipynb\" target=\"_parent\"><img src=\"https://colab.research.google.com/assets/colab-badge.svg\" alt=\"Open In Colab\"/></a>"
      ]
    },
    {
      "cell_type": "markdown",
      "source": [
        "Import Statements"
      ],
      "metadata": {
        "id": "Edz4P-8BNoJm"
      }
    },
    {
      "cell_type": "code",
      "execution_count": 22,
      "metadata": {
        "id": "S4RN1VfppvCY"
      },
      "outputs": [],
      "source": [
        "import numpy as np\n",
        "import torch.nn.functional as F"
      ]
    },
    {
      "cell_type": "markdown",
      "source": [
        "Experimenting Basics with eisum and pytorch"
      ],
      "metadata": {
        "id": "g0jabnoWORlX"
      }
    },
    {
      "cell_type": "code",
      "source": [
        "x = np.random.rand(2, 3)\n",
        "x"
      ],
      "metadata": {
        "colab": {
          "base_uri": "https://localhost:8080/"
        },
        "id": "L4efPHsep2GO",
        "outputId": "ffba1f97-8582-4128-d66e-20cc41ee8a7e"
      },
      "execution_count": 23,
      "outputs": [
        {
          "output_type": "execute_result",
          "data": {
            "text/plain": [
              "array([[0.94379251, 0.1221907 , 0.40130232],\n",
              "       [0.65313126, 0.67235375, 0.20983514]])"
            ]
          },
          "metadata": {},
          "execution_count": 23
        }
      ]
    },
    {
      "cell_type": "code",
      "source": [
        "# Sum\n",
        "\n",
        "# Full sum\n",
        "print(np.einsum(\"ij->\", x))\n",
        "\n",
        "# Row sum\n",
        "print(np.einsum(\"ij->i\", x))\n",
        "\n",
        "# Col sum\n",
        "np.einsum(\"ij->j\", x)"
      ],
      "metadata": {
        "colab": {
          "base_uri": "https://localhost:8080/"
        },
        "id": "-7lYCV2ZqUEB",
        "outputId": "33ae0e8d-0201-4a52-9775-e0ea800e474b"
      },
      "execution_count": 24,
      "outputs": [
        {
          "output_type": "stream",
          "name": "stdout",
          "text": [
            "3.0026056807020756\n",
            "[1.46728553 1.53532015]\n"
          ]
        },
        {
          "output_type": "execute_result",
          "data": {
            "text/plain": [
              "array([1.59692377, 0.79454445, 0.61113746])"
            ]
          },
          "metadata": {},
          "execution_count": 24
        }
      ]
    },
    {
      "cell_type": "markdown",
      "source": [
        "Matrix Transpose\n",
        "\n",
        "(Permute)"
      ],
      "metadata": {
        "id": "bcpV_1tYPzrN"
      }
    },
    {
      "cell_type": "code",
      "source": [
        "print(np.einsum(\"ij -> ji\", x))"
      ],
      "metadata": {
        "colab": {
          "base_uri": "https://localhost:8080/"
        },
        "id": "7wNjfCOMPtT6",
        "outputId": "e7a92bbd-6d4b-45ee-93b1-ec1dab776d70"
      },
      "execution_count": 25,
      "outputs": [
        {
          "output_type": "stream",
          "name": "stdout",
          "text": [
            "[[0.94379251 0.65313126]\n",
            " [0.1221907  0.67235375]\n",
            " [0.40130232 0.20983514]]\n"
          ]
        }
      ]
    },
    {
      "cell_type": "markdown",
      "source": [
        "Vector vector Multiplication"
      ],
      "metadata": {
        "id": "ZOybAgNUO_7O"
      }
    },
    {
      "cell_type": "code",
      "source": [
        "a = vector = np.array([1,2,3])\n",
        "b = vector = np.array([2,4,6])\n",
        "\n",
        "np.einsum(\"i,i->i\",b,a)"
      ],
      "metadata": {
        "colab": {
          "base_uri": "https://localhost:8080/"
        },
        "id": "NKcs0p1Sd5Ce",
        "outputId": "9d58b112-d805-4ad1-d117-30d8579809dd"
      },
      "execution_count": 26,
      "outputs": [
        {
          "output_type": "execute_result",
          "data": {
            "text/plain": [
              "array([ 2,  8, 18])"
            ]
          },
          "metadata": {},
          "execution_count": 26
        }
      ]
    },
    {
      "cell_type": "markdown",
      "source": [
        "Scalar vector multiplication "
      ],
      "metadata": {
        "id": "Fqu0d1Iivmxu"
      }
    },
    {
      "cell_type": "code",
      "source": [
        "v = [1, 2, 3]\n",
        "print(np.array(v) * 2)\n",
        "\n",
        "scalar = np.array([4])\n",
        "vector = np.array([1, 3, 4])\n",
        "print(np.einsum('i,j->j', scalar, vector))"
      ],
      "metadata": {
        "colab": {
          "base_uri": "https://localhost:8080/"
        },
        "id": "F1V_EAVovmQl",
        "outputId": "64b79e74-ad77-4ee9-d1f7-2672eab9a233"
      },
      "execution_count": 27,
      "outputs": [
        {
          "output_type": "stream",
          "name": "stdout",
          "text": [
            "[2 4 6]\n",
            "[ 4 12 16]\n"
          ]
        }
      ]
    },
    {
      "cell_type": "markdown",
      "source": [
        "Vector Matrix Multiplication"
      ],
      "metadata": {
        "id": "SmO_Ll-2O89d"
      }
    },
    {
      "cell_type": "code",
      "source": [
        "v = np.random.rand(1, 3)\n",
        "np.einsum(\"ik,jk->ij\", x, v)"
      ],
      "metadata": {
        "colab": {
          "base_uri": "https://localhost:8080/"
        },
        "id": "AkaupWcuqvCG",
        "outputId": "678932b9-638e-41d1-9124-ff55dabf350b"
      },
      "execution_count": 28,
      "outputs": [
        {
          "output_type": "execute_result",
          "data": {
            "text/plain": [
              "array([[1.00162268],\n",
              "       [0.72213181]])"
            ]
          },
          "metadata": {},
          "execution_count": 28
        }
      ]
    },
    {
      "cell_type": "markdown",
      "source": [
        "Matrix multiplication"
      ],
      "metadata": {
        "id": "qJ-7ao7ZPEpj"
      }
    },
    {
      "cell_type": "code",
      "source": [
        "m = np.random.rand(5, 3)\n",
        "np.einsum(\"ik,jk->ij\",x, m)"
      ],
      "metadata": {
        "colab": {
          "base_uri": "https://localhost:8080/"
        },
        "id": "zbTNnzzRuLws",
        "outputId": "6a7daf63-2ebb-485f-9fef-aad7312c1e9a"
      },
      "execution_count": 29,
      "outputs": [
        {
          "output_type": "execute_result",
          "data": {
            "text/plain": [
              "array([[0.84947298, 0.46977078, 0.16866999, 1.16816426, 0.45632088],\n",
              "       [0.71128571, 0.66445018, 0.37952645, 1.34289925, 0.7576769 ]])"
            ]
          },
          "metadata": {},
          "execution_count": 29
        }
      ]
    },
    {
      "cell_type": "markdown",
      "source": [
        "Outer Product"
      ],
      "metadata": {
        "id": "cqq_ZPCPzhrr"
      }
    },
    {
      "cell_type": "code",
      "source": [
        "a = np.array([1,2,3])\n",
        "b = np.array([4,5,6,7])\n",
        "np.einsum('i,j->ij', a, b)"
      ],
      "metadata": {
        "colab": {
          "base_uri": "https://localhost:8080/"
        },
        "id": "DJRMhbKWzhct",
        "outputId": "e08b87bf-b89e-477b-f2ca-fd06973e8c91"
      },
      "execution_count": 30,
      "outputs": [
        {
          "output_type": "execute_result",
          "data": {
            "text/plain": [
              "array([[ 4,  5,  6,  7],\n",
              "       [ 8, 10, 12, 14],\n",
              "       [12, 15, 18, 21]])"
            ]
          },
          "metadata": {},
          "execution_count": 30
        }
      ]
    },
    {
      "cell_type": "markdown",
      "source": [
        "Vector Dot product with matrix"
      ],
      "metadata": {
        "id": "X9zKtuCJPPel"
      }
    },
    {
      "cell_type": "code",
      "source": [
        "vector  = vector = np.array([1,2,3])\n",
        "matrix = [[1,2,3],[1,2,3]]\n",
        "np.einsum(\"i,ji->j\", vector, matrix)"
      ],
      "metadata": {
        "colab": {
          "base_uri": "https://localhost:8080/"
        },
        "id": "E_E_B7bU9L3Y",
        "outputId": "c383f7c8-4387-402c-e7be-71ae6267e3df"
      },
      "execution_count": 31,
      "outputs": [
        {
          "output_type": "execute_result",
          "data": {
            "text/plain": [
              "array([14, 14])"
            ]
          },
          "metadata": {},
          "execution_count": 31
        }
      ]
    },
    {
      "cell_type": "markdown",
      "source": [
        "Hadamard product \n",
        "\n",
        "(Element wise multiplication)"
      ],
      "metadata": {
        "id": "FIxnzaMxPXSi"
      }
    },
    {
      "cell_type": "code",
      "source": [
        "mat1 = [[1,2,3],[4,5,6]]\n",
        "mat2 = [[1,2,3],[4,5,6]]\n",
        "np.einsum(\"ij,ij->ij\",mat1,mat2)"
      ],
      "metadata": {
        "colab": {
          "base_uri": "https://localhost:8080/"
        },
        "id": "2_czURGd-GrQ",
        "outputId": "d4b9bb6e-a253-4ace-a130-8b7f9aed2bc3"
      },
      "execution_count": 32,
      "outputs": [
        {
          "output_type": "execute_result",
          "data": {
            "text/plain": [
              "array([[ 1,  4,  9],\n",
              "       [16, 25, 36]])"
            ]
          },
          "metadata": {},
          "execution_count": 32
        }
      ]
    },
    {
      "cell_type": "markdown",
      "source": [
        "Batch multiplication"
      ],
      "metadata": {
        "id": "BTCdO1NgPc4T"
      }
    },
    {
      "cell_type": "code",
      "source": [
        "a = np.random.rand(3,2,5)\n",
        "b = np.random.rand(3,5,3)\n",
        "print(a)\n",
        "print(b)\n",
        "np.einsum('ijk,ikl->ijl', a, b)"
      ],
      "metadata": {
        "colab": {
          "base_uri": "https://localhost:8080/"
        },
        "id": "yx2nzZ9vjhse",
        "outputId": "ece8dc83-dbec-4733-d705-63c6e44afcfd"
      },
      "execution_count": 33,
      "outputs": [
        {
          "output_type": "stream",
          "name": "stdout",
          "text": [
            "[[[0.1381754  0.84799407 0.35507865 0.18136643 0.2876896 ]\n",
            "  [0.01987606 0.3511761  0.80152807 0.2018186  0.36891098]]\n",
            "\n",
            " [[0.47453138 0.84592917 0.13896738 0.50691233 0.63162104]\n",
            "  [0.53285103 0.57687116 0.326619   0.25146489 0.72169859]]\n",
            "\n",
            " [[0.06201541 0.65617854 0.33716319 0.17728981 0.77414374]\n",
            "  [0.25800017 0.17334048 0.08303836 0.48239151 0.56526647]]]\n",
            "[[[0.70905295 0.10850195 0.00930454]\n",
            "  [0.87383766 0.39382551 0.74027773]\n",
            "  [0.82387902 0.64825095 0.60951291]\n",
            "  [0.06296138 0.01161096 0.15736695]\n",
            "  [0.92564852 0.76882606 0.82444765]]\n",
            "\n",
            " [[0.61128389 0.79783625 0.26325237]\n",
            "  [0.73169235 0.702343   0.74916791]\n",
            "  [0.43499614 0.48533957 0.57742729]\n",
            "  [0.56371118 0.42825192 0.98219453]\n",
            "  [0.61268294 0.80515098 0.60456455]]\n",
            "\n",
            " [[0.66986055 0.98381625 0.07744144]\n",
            "  [0.8921382  0.02736887 0.19123304]\n",
            "  [0.54879988 0.15468597 0.21822516]\n",
            "  [0.31987799 0.62408667 0.43954539]\n",
            "  [0.54966032 0.93188901 0.15822062]]]\n"
          ]
        },
        {
          "output_type": "execute_result",
          "data": {
            "text/plain": [
              "array([[[1.40924322, 0.80242317, 1.1111879 ],\n",
              "        [1.33551494, 0.94602172, 1.08460187]],\n",
              "\n",
              "       [[1.64221915, 1.76581362, 1.71865026],\n",
              "        [1.47381946, 1.67757707, 1.4443472 ]],\n",
              "\n",
              "       [[1.29420593, 0.9631853 , 0.40427548],\n",
              "        [0.83805022, 1.09923348, 0.37271916]]])"
            ]
          },
          "metadata": {},
          "execution_count": 33
        }
      ]
    },
    {
      "cell_type": "markdown",
      "source": [
        "Tensor reduction"
      ],
      "metadata": {
        "id": "W4mpmDTnPhpu"
      }
    },
    {
      "cell_type": "code",
      "source": [
        "a = np.random.rand(2,17,5,7)\n",
        "b = np.random.rand(11,2,4,17,6)\n",
        "np.einsum('pqrs,tpwqm->rstwm', a, b).shape"
      ],
      "metadata": {
        "colab": {
          "base_uri": "https://localhost:8080/"
        },
        "id": "DsTJH86nn8Ub",
        "outputId": "bc43b289-e00e-49f2-f38e-2f4321c9347e"
      },
      "execution_count": 34,
      "outputs": [
        {
          "output_type": "execute_result",
          "data": {
            "text/plain": [
              "(5, 7, 11, 4, 6)"
            ]
          },
          "metadata": {},
          "execution_count": 34
        }
      ]
    },
    {
      "cell_type": "markdown",
      "source": [
        "Bilinear Transformation"
      ],
      "metadata": {
        "id": "O-2GdcfuQkyg"
      }
    },
    {
      "cell_type": "code",
      "source": [
        "a = np.random.rand(2,3)\n",
        "b = np.random.rand(5,3,7)\n",
        "c = np.random.rand(2,7)\n",
        "np.einsum('ik,jkl,il->ij', a, b, c)"
      ],
      "metadata": {
        "id": "pcZ8-ONcom39",
        "colab": {
          "base_uri": "https://localhost:8080/"
        },
        "outputId": "045c7f7e-96b2-4e64-91d3-2d60853b7b1a"
      },
      "execution_count": 35,
      "outputs": [
        {
          "output_type": "execute_result",
          "data": {
            "text/plain": [
              "array([[1.58000135, 1.96797809, 2.09936678, 2.30222338, 1.87102663],\n",
              "       [1.81050054, 1.92971291, 2.28299386, 2.04617278, 1.97232057]])"
            ]
          },
          "metadata": {},
          "execution_count": 35
        }
      ]
    },
    {
      "cell_type": "markdown",
      "source": [
        "Random Tensors function"
      ],
      "metadata": {
        "id": "6yMfiOog1X_I"
      }
    },
    {
      "cell_type": "code",
      "source": [
        "#this function generates and returns a tensors based on the input shape\n",
        "#num denotes the number of times the loop should run - based on number of variables to assign value to  \n",
        "\n",
        "#def random_tensors(shape, num=1):\n",
        "#  return [np.random.randn(*shape) for i in range(num)]\n",
        "\n",
        "def random_tensors(shape, num=1, requires_grad=False):\n",
        "  tensors = [np.random.randn(*shape) for i in range(0, num)]\n",
        "  return tensors[0] if num == 1 else tensors\n"
      ],
      "metadata": {
        "id": "hCToT0BS1Zfi"
      },
      "execution_count": 36,
      "outputs": []
    },
    {
      "cell_type": "markdown",
      "source": [
        "Attention"
      ],
      "metadata": {
        "id": "SFCsFv-YH5Nb"
      }
    },
    {
      "cell_type": "code",
      "source": [
        "#einsum was giving errors so tried a few using matmul \n",
        "\n",
        "bM, br, w = random_tensors([7], num=3)\n",
        "WY, Wh, Wr, Wt = random_tensors([7, 7], num=4)\n",
        "\n",
        "print(bM, br, w)\n",
        "\n",
        "print(WY, Wh, Wr, Wt)\n",
        "\n",
        "def attention(Y, ht, rt1):\n",
        "\n",
        "  tmp = np.einsum('ik,kl->il', ht, Wh) + np.einsum('ik,kl->il', rt1, Wr)\n",
        "  \n",
        "  \n",
        "  #tanh return a new tensor with the hyperbolic tangent of the given input\n",
        "  #expand_dims is to get a tensor add insert an additional dimension at the given position  \n",
        "  Mt = np.tanh(np.matmul(Y, WY) + np.expand_dims(tmp, 1) + bM)\n",
        "\n",
        "  # -- [batch_size x sequence_length]\n",
        "  #using this in for softmax in np\n",
        "  at = np.exp(np.matmul(Mt, w)) / np.sum(np.exp(np.matmul(Mt, w)), axis=1, keepdims=True)\n",
        " \n",
        "\n",
        "  # -- [batch_size x hidden_dimension]\n",
        "  rt = np.matmul(at[..., None, :], Y).squeeze() + np.tanh(np.matmul(rt1, Wt) + br)\n",
        " \n",
        "\n",
        "  return rt, at\n",
        "\n",
        "# -- [batch_size x sequence_length x hidden_dimension]\n",
        "Y = np.array(random_tensors([3, 5, 7]))\n",
        "\n",
        "# -- [batch_size x hidden_dimension]\n",
        "ht, rt1 = random_tensors([3, 7], num=2)\n",
        "\n",
        "print(ht)\n",
        "\n",
        "print(rt1)\n",
        "\n",
        "rt, at = attention(Y, ht, rt1)\n",
        "at  # -- print attention weights\n"
      ],
      "metadata": {
        "colab": {
          "base_uri": "https://localhost:8080/"
        },
        "id": "zkI2PSJ71bCH",
        "outputId": "a5da852b-f705-449c-df9c-c58643622024"
      },
      "execution_count": 37,
      "outputs": [
        {
          "output_type": "stream",
          "name": "stdout",
          "text": [
            "[-0.6819007   0.43336112 -2.03883991  0.0114687   1.84461392  0.47968351\n",
            "  0.91387846] [ 0.2015608   0.62562457  0.03759612  0.81302335  0.46413719  0.94178213\n",
            " -0.8013779 ] [-2.4407867   0.53068681 -1.41396565 -1.12795882 -0.70997584  1.2869481\n",
            "  0.02497065]\n",
            "[[-0.28195633  1.61393438 -0.24440706  0.31570991  0.03458595 -1.11733572\n",
            "  -0.10575867]\n",
            " [-0.46877195  0.32483494  1.37876489 -0.52636084 -0.02254524  0.38447757\n",
            "   1.87200116]\n",
            " [ 0.83121289 -0.85009263  1.0173207  -0.69884469 -1.6486079  -0.61609757\n",
            "  -2.50168515]\n",
            " [ 0.37893184  0.11294451 -0.16882021 -0.82400553  0.02151637 -0.89934224\n",
            "   1.26303614]\n",
            " [ 0.1789878  -0.19155248  2.65972595  0.04644652  0.39167864 -1.16829365\n",
            "  -1.12291493]\n",
            " [ 1.66932112  1.198152   -1.70202365 -0.91603993 -0.5679276   0.8733894\n",
            "   1.43836087]\n",
            " [ 1.19026322  1.35835879  1.35523542  0.97052217  0.97788747 -2.05421366\n",
            "  -0.16803885]] [[ 0.27782728 -2.04679662  0.97005211 -0.09005636  0.74610759 -0.74732875\n",
            "  -0.98694736]\n",
            " [-0.70194707 -0.49926729 -0.0415302   0.32510348  2.03480383 -0.7370253\n",
            "  -0.26189582]\n",
            " [-0.33953514  0.08642465 -1.67748595  0.44513988  0.56090964 -1.13132501\n",
            "  -0.7189407 ]\n",
            " [ 1.5298982  -1.77630839 -1.60397559  0.20299063  0.94621725  0.82744098\n",
            "   1.48930136]\n",
            " [ 1.11278165 -0.90030325 -0.97069944 -1.01466008 -2.1937124  -0.08990398\n",
            "   1.24885432]\n",
            " [-0.85107165  0.88080905 -0.32482725 -0.08748859  1.45748907 -0.27039038\n",
            "   1.26144157]\n",
            " [-1.33959614  0.26584917  0.61792524  0.49524624 -0.0034484  -0.00604034\n",
            "  -0.256253  ]] [[-0.32131496  1.38808789  1.5789182   2.30724343 -0.55990967 -0.86678161\n",
            "  -0.72196492]\n",
            " [-0.12638809 -0.67031018 -0.36067506  0.21903996  0.88297054 -3.06485872\n",
            "   0.17223151]\n",
            " [ 1.17954895 -0.54005858  0.2968293  -2.20286711 -0.75389331  0.29343603\n",
            "  -0.62363397]\n",
            " [ 0.03079302  0.22862365 -0.2212563   0.95814335 -0.64798852  0.49277737\n",
            "  -1.7569369 ]\n",
            " [ 0.79701821 -0.93850414  1.27947896  0.04184292 -1.61650883  1.83738867\n",
            "  -0.05001963]\n",
            " [-0.81446143  1.00755506 -0.03564476 -0.51935217 -0.12590763 -0.73438111\n",
            "  -0.7108651 ]\n",
            " [-0.90399033  2.05536532 -1.62249884  0.58884529 -0.72451673 -2.50158677\n",
            "   0.5281034 ]] [[-0.5584877   1.15843364  0.45030839 -0.13467311 -0.44925793  0.7930752\n",
            "   0.47328876]\n",
            " [-0.63677268  0.52206528  0.50878916  0.9610642   0.25265989  1.48232131\n",
            "  -0.27495199]\n",
            " [ 2.76067812 -1.04868304  0.12530783 -0.6969278   1.14485374 -0.03231429\n",
            "   1.63258872]\n",
            " [ 0.39188192  0.63644959  1.09282829  1.3416192  -0.55930778 -1.28536165\n",
            "   1.32381899]\n",
            " [-2.1912391   2.11618607  0.46813646 -0.86522285  0.05299214  1.15986128\n",
            "  -1.77102641]\n",
            " [ 1.52452263  0.2041745   0.93473094 -0.7271052   1.00046407 -0.42793493\n",
            "  -1.19325462]\n",
            " [-0.06057211  0.65478245 -2.13769523  0.7450588  -0.08780834 -0.4288506\n",
            "  -1.03029713]]\n",
            "[[-2.30919593 -1.45233816  0.30458633  0.07777918  1.79319548 -0.21909175\n",
            "  -0.25934445]\n",
            " [ 0.58330434 -0.06330824 -2.19637188 -0.00639634  0.01945629  0.15873082\n",
            "   0.89150632]\n",
            " [-0.7559942  -0.00530871  0.05836915  0.16355928  2.00178586  0.37258309\n",
            "   0.46512575]]\n",
            "[[-0.64452231 -1.73176062 -1.3995123  -0.50430196  0.10283847 -0.06147856\n",
            "  -0.95054525]\n",
            " [ 0.16749665  1.51985992 -0.14690578 -0.11244421 -0.16439854 -1.76687459\n",
            "  -0.04186034]\n",
            " [ 0.66766036 -0.2002243  -0.13625105  1.21640031 -0.10990711 -0.41318439\n",
            "   0.1140039 ]]\n"
          ]
        },
        {
          "output_type": "execute_result",
          "data": {
            "text/plain": [
              "array([[1.73830688e-03, 3.63278618e-03, 1.25323959e-02, 9.56519074e-01,\n",
              "        2.55774372e-02],\n",
              "       [5.53926423e-04, 9.79844420e-01, 3.23984834e-03, 3.77558200e-04,\n",
              "        1.59842470e-02],\n",
              "       [1.49730421e-01, 1.94494973e-01, 1.41224205e-01, 5.71665650e-02,\n",
              "        4.57383836e-01]])"
            ]
          },
          "metadata": {},
          "execution_count": 37
        }
      ]
    },
    {
      "cell_type": "markdown",
      "source": [
        "Tree qn"
      ],
      "metadata": {
        "id": "LQxzAl9YH697"
      }
    },
    {
      "cell_type": "code",
      "source": [
        "# Parameters\n",
        "# -- [num_actions x hidden_dimension]\n",
        "b = random_tensors([5, 3], requires_grad=True)\n",
        "# -- [num_actions x hidden_dimension x hidden_dimension]\n",
        "W = random_tensors([5, 3, 3], requires_grad=True)\n",
        "\n",
        "print(b)\n",
        "print(W)\n",
        "\n",
        "def transition(zl):\n",
        "  # -- [batch_size x num_actions x hidden_dimension]\n",
        "  return zl[:, None, :] + np.tanh(np.einsum(\"bk,aki->bai\", zl, W) + b)\n",
        "\n",
        "# Sampled dummy inputs\n",
        "# -- [batch_size x hidden_dimension]\n",
        "zl = random_tensors([2, 3])\n",
        "\n",
        "print(zl)\n",
        "transition(zl)\n",
        "\n",
        "print(zl)"
      ],
      "metadata": {
        "colab": {
          "base_uri": "https://localhost:8080/"
        },
        "id": "qdfWg2nSFvhe",
        "outputId": "fb6ea3f8-c58d-4cd5-cc84-86a9e1066f4c"
      },
      "execution_count": 38,
      "outputs": [
        {
          "output_type": "stream",
          "name": "stdout",
          "text": [
            "[[-0.6515774   0.74179764 -0.2579887 ]\n",
            " [ 1.22666659  1.9171741  -0.79127763]\n",
            " [-0.0601294  -0.04169373  0.83955597]\n",
            " [ 1.7254171   0.05986703  0.54293899]\n",
            " [ 0.0938899  -0.25153015 -0.48148197]]\n",
            "[[[-1.44090967e+00  4.10222561e-01  1.28542834e-01]\n",
            "  [ 5.59266375e-01  6.54924695e-01 -7.21228107e-01]\n",
            "  [-2.02097254e-01  1.72268578e+00 -1.50721038e+00]]\n",
            "\n",
            " [[-7.66167300e-01 -2.53442523e-01 -4.80359020e-02]\n",
            "  [-1.11798570e+00  7.73716664e-01  1.22265308e-01]\n",
            "  [-2.32109245e-02  1.67416650e-01 -1.90922782e+00]]\n",
            "\n",
            " [[ 1.41425719e+00  1.23018113e-02 -6.31021692e-01]\n",
            "  [ 7.95726754e-02  1.42653792e+00 -5.65525671e-02]\n",
            "  [ 1.06210576e-01 -6.04073273e-01 -3.15668627e-01]]\n",
            "\n",
            " [[-1.38579769e+00 -1.04282195e+00  1.38321387e+00]\n",
            "  [-1.26221168e+00 -4.47931513e-01 -1.21633968e+00]\n",
            "  [ 4.66065534e-01  2.59522670e+00  1.09302284e+00]]\n",
            "\n",
            " [[ 9.49382537e-02  6.39411566e-01  5.72389287e-01]\n",
            "  [-7.21495795e-01 -7.48674999e-02 -1.38180871e+00]\n",
            "  [-3.56065026e-04 -1.52750943e-01 -1.19634272e-01]]]\n",
            "[[-3.83271558e-01 -1.48792555e-03 -3.40735605e-01]\n",
            " [ 2.71684428e-01  9.95876193e-01  1.50981405e+00]]\n",
            "[[-3.83271558e-01 -1.48792555e-03 -3.40735605e-01]\n",
            " [ 2.71684428e-01  9.95876193e-01  1.50981405e+00]]\n"
          ]
        }
      ]
    },
    {
      "cell_type": "code",
      "source": [],
      "metadata": {
        "id": "4JBqhi8ZH_qM"
      },
      "execution_count": 38,
      "outputs": []
    }
  ]
}