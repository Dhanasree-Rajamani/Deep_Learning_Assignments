{
  "nbformat": 4,
  "nbformat_minor": 0,
  "metadata": {
    "colab": {
      "provenance": [],
      "include_colab_link": true
    },
    "kernelspec": {
      "name": "python3",
      "display_name": "Python 3"
    },
    "language_info": {
      "name": "python"
    }
  },
  "cells": [
    {
      "cell_type": "markdown",
      "metadata": {
        "id": "view-in-github",
        "colab_type": "text"
      },
      "source": [
        "<a href=\"https://colab.research.google.com/github/Dhanasree-Rajamani/Deep_Learning_Assignments/blob/main/Assignment_2b/DL_Pytorch_einsum.ipynb\" target=\"_parent\"><img src=\"https://colab.research.google.com/assets/colab-badge.svg\" alt=\"Open In Colab\"/></a>"
      ]
    },
    {
      "cell_type": "markdown",
      "source": [
        "Import Statements"
      ],
      "metadata": {
        "id": "Edz4P-8BNoJm"
      }
    },
    {
      "cell_type": "code",
      "execution_count": 1,
      "metadata": {
        "id": "S4RN1VfppvCY"
      },
      "outputs": [],
      "source": [
        "import torch\n",
        "import numpy as np\n",
        "import tensorflow as tf\n",
        "import torch.nn.functional as F"
      ]
    },
    {
      "cell_type": "markdown",
      "source": [
        "Experimenting Basics with eisum and pytorch"
      ],
      "metadata": {
        "id": "g0jabnoWORlX"
      }
    },
    {
      "cell_type": "code",
      "source": [
        "x = torch.rand((2, 3))\n",
        "x"
      ],
      "metadata": {
        "colab": {
          "base_uri": "https://localhost:8080/"
        },
        "id": "L4efPHsep2GO",
        "outputId": "b0df09d4-3eab-4fc7-fd9b-4e55a77b4ba0"
      },
      "execution_count": 2,
      "outputs": [
        {
          "output_type": "execute_result",
          "data": {
            "text/plain": [
              "tensor([[0.7506, 0.7333, 0.9085],\n",
              "        [0.3212, 0.3772, 0.9466]])"
            ]
          },
          "metadata": {},
          "execution_count": 2
        }
      ]
    },
    {
      "cell_type": "code",
      "source": [
        "# Sum\n",
        "\n",
        "# Full sum\n",
        "print(torch.einsum(\"ij->\", x))\n",
        "\n",
        "# Row sum\n",
        "print(torch.einsum(\"ij->i\", x))\n",
        "\n",
        "# Col sum\n",
        "torch.einsum(\"ij->j\", x)"
      ],
      "metadata": {
        "colab": {
          "base_uri": "https://localhost:8080/"
        },
        "id": "-7lYCV2ZqUEB",
        "outputId": "8cf675c8-ef7c-4e3f-fab4-faa199c10eab"
      },
      "execution_count": 3,
      "outputs": [
        {
          "output_type": "stream",
          "name": "stdout",
          "text": [
            "tensor(4.0373)\n",
            "tensor([2.3923, 1.6450])\n"
          ]
        },
        {
          "output_type": "execute_result",
          "data": {
            "text/plain": [
              "tensor([1.0718, 1.1105, 1.8551])"
            ]
          },
          "metadata": {},
          "execution_count": 3
        }
      ]
    },
    {
      "cell_type": "markdown",
      "source": [
        "Matrix Transpose\n",
        "\n",
        "(Permute)"
      ],
      "metadata": {
        "id": "bcpV_1tYPzrN"
      }
    },
    {
      "cell_type": "code",
      "source": [
        "print(torch.einsum(\"ij -> ji\", x))"
      ],
      "metadata": {
        "colab": {
          "base_uri": "https://localhost:8080/"
        },
        "id": "7wNjfCOMPtT6",
        "outputId": "e3c69ba6-7058-4325-e706-dfb6421a2f94"
      },
      "execution_count": 4,
      "outputs": [
        {
          "output_type": "stream",
          "name": "stdout",
          "text": [
            "tensor([[0.7506, 0.3212],\n",
            "        [0.7333, 0.3772],\n",
            "        [0.9085, 0.9466]])\n"
          ]
        }
      ]
    },
    {
      "cell_type": "markdown",
      "source": [
        "Vector vector Multiplication"
      ],
      "metadata": {
        "id": "ZOybAgNUO_7O"
      }
    },
    {
      "cell_type": "code",
      "source": [
        "a = torch.tensor([1,2,3])\n",
        "b = torch.tensor([2,4,6])\n",
        "\n",
        "torch.einsum(\"i,i->i\",b,a)"
      ],
      "metadata": {
        "colab": {
          "base_uri": "https://localhost:8080/"
        },
        "id": "NKcs0p1Sd5Ce",
        "outputId": "b8e02436-2833-4fc1-ebf2-220e16a5e82e"
      },
      "execution_count": 5,
      "outputs": [
        {
          "output_type": "execute_result",
          "data": {
            "text/plain": [
              "tensor([ 2,  8, 18])"
            ]
          },
          "metadata": {},
          "execution_count": 5
        }
      ]
    },
    {
      "cell_type": "markdown",
      "source": [
        "Scalar vector multiplication"
      ],
      "metadata": {
        "id": "TsB4gM3rvzjS"
      }
    },
    {
      "cell_type": "code",
      "source": [
        "vector = torch.Tensor([1, 2, 3, 4, 5])\n",
        "#by using a scalar tensor\n",
        "scalar = torch.Tensor([5])\n",
        "\n",
        "res = torch.einsum(\"i,i->i\",vector,scalar)\n",
        "print(res)\n",
        "\n",
        "#using a regular scalar, but not einsum\n",
        "a= 5\n",
        "b= torch.tensor([1,2,3,4,5])\n",
        "print(\"Scalar vector mul: \",torch.mul(vector, scalar))"
      ],
      "metadata": {
        "colab": {
          "base_uri": "https://localhost:8080/"
        },
        "id": "RgyMJkUCvzUT",
        "outputId": "848ff149-4e24-4f22-b0ae-8794945c653f"
      },
      "execution_count": 6,
      "outputs": [
        {
          "output_type": "stream",
          "name": "stdout",
          "text": [
            "tensor([ 5., 10., 15., 20., 25.])\n",
            "Scalar vector mul:  tensor([ 5., 10., 15., 20., 25.])\n"
          ]
        }
      ]
    },
    {
      "cell_type": "markdown",
      "source": [
        "Vector Matrix Multiplication"
      ],
      "metadata": {
        "id": "SmO_Ll-2O89d"
      }
    },
    {
      "cell_type": "code",
      "source": [
        "v = torch.rand((1,3))\n",
        "torch.einsum(\"ik,jk->ij\", x, v)"
      ],
      "metadata": {
        "colab": {
          "base_uri": "https://localhost:8080/"
        },
        "id": "AkaupWcuqvCG",
        "outputId": "f4fd1247-fcd4-4902-b34c-2d2636876db6"
      },
      "execution_count": 7,
      "outputs": [
        {
          "output_type": "execute_result",
          "data": {
            "text/plain": [
              "tensor([[0.8207],\n",
              "        [0.8190]])"
            ]
          },
          "metadata": {},
          "execution_count": 7
        }
      ]
    },
    {
      "cell_type": "markdown",
      "source": [
        "Matrix multiplication"
      ],
      "metadata": {
        "id": "qJ-7ao7ZPEpj"
      }
    },
    {
      "cell_type": "code",
      "source": [
        "m = torch.rand((5,3))\n",
        "torch.einsum(\"ik,jk->ij\",x, m)"
      ],
      "metadata": {
        "colab": {
          "base_uri": "https://localhost:8080/"
        },
        "id": "zbTNnzzRuLws",
        "outputId": "c2032a61-0267-4a38-9440-d6d845cc7745"
      },
      "execution_count": 8,
      "outputs": [
        {
          "output_type": "execute_result",
          "data": {
            "text/plain": [
              "tensor([[1.2185, 1.1115, 1.3639, 1.4635, 0.7980],\n",
              "        [0.9581, 1.0158, 0.8738, 1.1318, 0.7455]])"
            ]
          },
          "metadata": {},
          "execution_count": 8
        }
      ]
    },
    {
      "cell_type": "markdown",
      "source": [
        "Outer Product"
      ],
      "metadata": {
        "id": "hiVGK5nBy-mZ"
      }
    },
    {
      "cell_type": "code",
      "source": [
        "a = torch.tensor([1,2,3])\n",
        "b = torch.tensor([4,5,6,7])\n",
        "torch.einsum('i,j->ij', [a, b])"
      ],
      "metadata": {
        "colab": {
          "base_uri": "https://localhost:8080/"
        },
        "id": "5t1gPC8Ny-PJ",
        "outputId": "8973f87a-3710-4930-d0c5-c086e8521285"
      },
      "execution_count": 9,
      "outputs": [
        {
          "output_type": "execute_result",
          "data": {
            "text/plain": [
              "tensor([[ 4,  5,  6,  7],\n",
              "        [ 8, 10, 12, 14],\n",
              "        [12, 15, 18, 21]])"
            ]
          },
          "metadata": {},
          "execution_count": 9
        }
      ]
    },
    {
      "cell_type": "markdown",
      "source": [
        "Vector Dot product with matrix"
      ],
      "metadata": {
        "id": "X9zKtuCJPPel"
      }
    },
    {
      "cell_type": "code",
      "source": [
        "vector  = torch.tensor([1,2,3])\n",
        "matrix = torch.tensor([[1,2,3],[1,2,3]])\n",
        "torch.einsum(\"i,ji->j\", vector, matrix)"
      ],
      "metadata": {
        "colab": {
          "base_uri": "https://localhost:8080/"
        },
        "id": "E_E_B7bU9L3Y",
        "outputId": "c22e51e9-a5c5-4ce7-a8db-8c4762be0fc7"
      },
      "execution_count": 10,
      "outputs": [
        {
          "output_type": "execute_result",
          "data": {
            "text/plain": [
              "tensor([14, 14])"
            ]
          },
          "metadata": {},
          "execution_count": 10
        }
      ]
    },
    {
      "cell_type": "markdown",
      "source": [
        "Hadamard product \n",
        "\n",
        "(Element wise multiplication)"
      ],
      "metadata": {
        "id": "FIxnzaMxPXSi"
      }
    },
    {
      "cell_type": "code",
      "source": [
        "mat1 = torch.tensor([[1,2,3],[4,5,6]])\n",
        "mat2 = torch.tensor([[1,2,3],[4,5,6]])\n",
        "torch.einsum(\"ij,ij->ij\",mat1,mat2)"
      ],
      "metadata": {
        "colab": {
          "base_uri": "https://localhost:8080/"
        },
        "id": "2_czURGd-GrQ",
        "outputId": "3964a6db-0e7d-4fb1-9d34-ababc0eead47"
      },
      "execution_count": 11,
      "outputs": [
        {
          "output_type": "execute_result",
          "data": {
            "text/plain": [
              "tensor([[ 1,  4,  9],\n",
              "        [16, 25, 36]])"
            ]
          },
          "metadata": {},
          "execution_count": 11
        }
      ]
    },
    {
      "cell_type": "markdown",
      "source": [
        "Batch multiplication"
      ],
      "metadata": {
        "id": "BTCdO1NgPc4T"
      }
    },
    {
      "cell_type": "code",
      "source": [
        "a = torch.randn(3,2,5)\n",
        "b = torch.randn(3,5,3)\n",
        "print(a)\n",
        "print(b)\n",
        "torch.einsum('ijk,ikl->ijl', [a, b])"
      ],
      "metadata": {
        "colab": {
          "base_uri": "https://localhost:8080/"
        },
        "id": "yx2nzZ9vjhse",
        "outputId": "23ed58f1-5bf4-4806-a268-c7ef89641f3a"
      },
      "execution_count": 12,
      "outputs": [
        {
          "output_type": "stream",
          "name": "stdout",
          "text": [
            "tensor([[[ 0.8646, -0.5582,  0.8201,  1.3421, -1.4749],\n",
            "         [-1.5393,  0.9165,  0.6591, -0.4621, -0.2293]],\n",
            "\n",
            "        [[ 1.1693, -2.2040, -0.1950,  1.2123, -1.5279],\n",
            "         [ 0.8987, -0.8501,  0.4874,  0.5478, -0.7393]],\n",
            "\n",
            "        [[ 0.1098, -1.1359,  0.3085, -1.7176,  0.7358],\n",
            "         [ 1.4021,  2.3415, -0.6526, -0.9761,  1.2569]]])\n",
            "tensor([[[ 0.5439, -0.9442, -1.6123],\n",
            "         [ 1.7300, -0.8881, -0.8386],\n",
            "         [ 0.0410,  0.5858, -0.0166],\n",
            "         [ 0.7151,  0.1271, -2.5635],\n",
            "         [-1.3893, -0.1532,  0.2334]],\n",
            "\n",
            "        [[ 0.4666,  1.1202, -0.2598],\n",
            "         [ 2.1717, -0.3175,  0.1242],\n",
            "         [-0.7934, -0.0903, -0.2720],\n",
            "         [-0.1763, -1.2716,  0.9953],\n",
            "         [ 0.3235,  2.1221, -0.6791]],\n",
            "\n",
            "        [[ 0.1446,  0.9419,  0.3606],\n",
            "         [ 0.6822, -0.3792, -0.0113],\n",
            "         [ 0.0216, -0.3186,  0.2016],\n",
            "         [ 0.1134, -0.8608,  0.6118],\n",
            "         [-0.2093,  0.5927, -0.1613]]])\n"
          ]
        },
        {
          "output_type": "execute_result",
          "data": {
            "text/plain": [
              "tensor([[[ 2.5472,  0.5563, -4.7243],\n",
              "         [ 0.7634,  1.0019,  2.8334]],\n",
              "\n",
              "        [[-4.7942, -2.7569,  1.7196],\n",
              "         [-2.1493, -1.0328,  0.5755]],\n",
              "\n",
              "        [[-1.1012,  2.3504, -1.0549],\n",
              "         [ 1.4123,  2.2259, -0.4524]]])"
            ]
          },
          "metadata": {},
          "execution_count": 12
        }
      ]
    },
    {
      "cell_type": "markdown",
      "source": [
        "Tensor reduction"
      ],
      "metadata": {
        "id": "W4mpmDTnPhpu"
      }
    },
    {
      "cell_type": "code",
      "source": [
        "a = torch.randn(2,17,5,7)\n",
        "b = torch.randn(11,2,4,17,6)\n",
        "\n",
        "\n",
        "torch.einsum('pqrs,tpwqm->rstwm', [a, b]).shape"
      ],
      "metadata": {
        "colab": {
          "base_uri": "https://localhost:8080/"
        },
        "id": "DsTJH86nn8Ub",
        "outputId": "7b90ac92-f60d-4bf7-e350-a830aa19971e"
      },
      "execution_count": 13,
      "outputs": [
        {
          "output_type": "execute_result",
          "data": {
            "text/plain": [
              "torch.Size([5, 7, 11, 4, 6])"
            ]
          },
          "metadata": {},
          "execution_count": 13
        }
      ]
    },
    {
      "cell_type": "markdown",
      "source": [
        "Bilinear Transformation"
      ],
      "metadata": {
        "id": "O-2GdcfuQkyg"
      }
    },
    {
      "cell_type": "code",
      "source": [
        "a = torch.randn(2,3)\n",
        "b = torch.randn(5,3,7)\n",
        "c = torch.randn(2,7)\n",
        "torch.einsum('ik,jkl,il->ij', [a, b, c])"
      ],
      "metadata": {
        "id": "pcZ8-ONcom39",
        "colab": {
          "base_uri": "https://localhost:8080/"
        },
        "outputId": "0a6b8b1f-4aa3-436f-8fe9-76a87cc42e69"
      },
      "execution_count": 14,
      "outputs": [
        {
          "output_type": "execute_result",
          "data": {
            "text/plain": [
              "tensor([[ -4.1781,   2.9073,   8.2352, -11.7879,  -3.1569],\n",
              "        [ -2.3658,  -3.2720,  17.6204, -16.3037,   5.9743]])"
            ]
          },
          "metadata": {},
          "execution_count": 14
        }
      ]
    },
    {
      "cell_type": "markdown",
      "source": [
        "Attention"
      ],
      "metadata": {
        "id": "_mGbw2eayLmy"
      }
    },
    {
      "cell_type": "markdown",
      "source": [
        "Random tensors function"
      ],
      "metadata": {
        "id": "Y3PpGyPdsMuG"
      }
    },
    {
      "cell_type": "code",
      "source": [
        "#this function generates and returns a tensors based on the input shape\n",
        "#num denotes the number of times the loop should run - based on number of variables to assign value to  \n",
        "def random_tensors(shape, num=1, requires_grad=False):\n",
        "  tensors = [torch.randn(shape, requires_grad=requires_grad) for i in range(0, num)]\n",
        "  return tensors[0] if num == 1 else tensors"
      ],
      "metadata": {
        "id": "6yAaSk_u1Iwr"
      },
      "execution_count": 15,
      "outputs": []
    },
    {
      "cell_type": "code",
      "source": [
        "# Parameters\n",
        "# -- [hidden_dimension]\n",
        "\n",
        "#requires_grad is to tell autograd to begin recording operations on a Tensor tensor\n",
        "bM, br, w = random_tensors([7], num=3, requires_grad=True)\n",
        "# -- [hidden_dimension x hidden_dimension]\n",
        "WY, Wh, Wr, Wt = random_tensors([7, 7], num=4, requires_grad=True)\n",
        "\n",
        "print(bM, br, w)\n",
        "\n",
        "print(WY, Wh, Wr, Wt)\n",
        "\n",
        "\n",
        "def attention(Y, ht, rt1):\n",
        "  # -- [batch_size x hidden_dimension] \n",
        "  tmp = torch.einsum(\"ik,kl->il\", [ht, Wh]) + torch.einsum(\"ik,kl->il\", [rt1, Wr])\n",
        "\n",
        "  #tanh return a new tensor with the hyperbolic tangent of the given input\n",
        "  #unsqueeze is to get a tensor add insert an additional dimension at the given position\n",
        "  Mt = F.tanh(torch.einsum(\"ijk,kl->ijl\", [Y, WY]) + tmp.unsqueeze(1).expand_as(Y) + bM)\n",
        "  \n",
        "  # -- [batch_size x sequence_length]\n",
        "  #applying softmax : expression/sigma expression\n",
        "  at = F.softmax(torch.einsum(\"ijk,k->ij\", [Mt, w])) \n",
        "  \n",
        "  # -- [batch_size x hidden_dimension]\n",
        "  rt = torch.einsum(\"ijk,ij->ik\", [Y, at]) + F.tanh(torch.einsum(\"ij,jk->ik\", [rt1, Wt]) + br)\n",
        "  \n",
        "  # -- [batch_size x hidden_dimension], [batch_size x sequence_dimension]\n",
        "  return rt, at\n",
        "\n",
        "# Sampled dummy inputs\n",
        "# -- [batch_size x sequence_length x hidden_dimension]\n",
        "Y = random_tensors([3, 5, 7])\n",
        "# -- [batch_size x hidden_dimension]\n",
        "ht, rt1 = random_tensors([3, 7], num=2)\n",
        "\n",
        "print(ht)\n",
        "\n",
        "print(rt1)\n",
        "\n",
        "rt, at = attention(Y, ht, rt1)\n",
        "at  # -- print attention weights"
      ],
      "metadata": {
        "id": "ZKWfmfMJQoub",
        "colab": {
          "base_uri": "https://localhost:8080/"
        },
        "outputId": "37ea2969-e894-43e7-d096-9c760fadbc87"
      },
      "execution_count": 16,
      "outputs": [
        {
          "output_type": "stream",
          "name": "stdout",
          "text": [
            "tensor([ 0.6063,  0.8276, -0.2791,  0.5231, -0.8865,  0.8677, -2.0890],\n",
            "       requires_grad=True) tensor([-1.4747, -0.5452,  0.6770,  0.2005, -0.3470, -0.3761,  0.2864],\n",
            "       requires_grad=True) tensor([-0.9051, -1.3016, -0.0436,  0.9378, -1.1669, -0.4897,  0.1494],\n",
            "       requires_grad=True)\n",
            "tensor([[ 0.8804, -1.2171,  1.0579, -0.3152, -0.2339,  0.9203,  0.8639],\n",
            "        [ 0.0395, -0.6074,  0.8616,  1.4354, -0.9257, -0.6261,  0.6885],\n",
            "        [ 0.7136, -0.1668,  0.1346, -0.5040, -0.4708, -0.1130,  0.2277],\n",
            "        [ 0.3450, -0.5538, -1.0206,  0.6619,  1.5091,  1.5177, -0.6255],\n",
            "        [-1.1667,  0.2109, -0.2933,  0.5192,  0.7864, -0.3015,  0.4956],\n",
            "        [-0.5215, -1.6504,  0.9887,  0.4435, -0.5634,  1.0736, -1.6727],\n",
            "        [-0.2853,  0.1680, -1.1446,  0.2012,  0.9796, -0.7681, -0.5591]],\n",
            "       requires_grad=True) tensor([[-0.9851, -0.6977, -0.3381, -1.9434,  1.2185,  0.9177,  0.7909],\n",
            "        [ 0.0137,  1.3459,  0.1543,  3.2149, -2.1357, -0.4277,  0.2995],\n",
            "        [-1.5983,  0.9333,  1.7688,  0.6866, -0.5217, -2.8348,  0.6859],\n",
            "        [-0.1818,  0.2000, -2.0096,  0.5371,  1.7021, -1.0709, -0.2391],\n",
            "        [ 0.2129, -0.6338,  0.7625,  1.0202,  0.2445, -1.1481, -0.1141],\n",
            "        [ 1.0230, -1.5427,  2.2149,  1.2947, -1.7260, -0.5992,  0.4560],\n",
            "        [-0.8695, -0.0254,  0.1653,  0.5982,  1.4743, -1.6949,  0.0958]],\n",
            "       requires_grad=True) tensor([[ 0.1771, -0.8214,  1.0071,  0.0376,  1.8076,  1.0444, -1.2195],\n",
            "        [ 0.5913, -1.1514,  0.2372, -1.0576, -0.5611,  2.1941, -0.0048],\n",
            "        [ 0.8706, -0.1646,  0.6181, -0.8924,  0.1747, -1.1159, -1.2505],\n",
            "        [-1.1102, -0.0332, -0.0680,  1.5325,  0.8542,  0.7245,  0.9512],\n",
            "        [-0.2015,  0.0545,  0.3824,  0.3124,  0.5920, -0.9717, -0.6119],\n",
            "        [-0.4049, -1.0573, -0.2561,  0.9373,  0.0606, -0.8250,  2.1436],\n",
            "        [-0.5292, -0.1353, -0.3992, -0.3563, -0.9304, -0.6448, -0.1507]],\n",
            "       requires_grad=True) tensor([[-1.9840,  0.7384, -1.4550,  0.7854, -1.8587,  0.1417,  1.0700],\n",
            "        [-0.5477,  0.4129,  0.3494,  0.1392,  0.4092, -0.7715,  1.7510],\n",
            "        [-1.1779,  1.2240,  0.4468, -0.0905, -1.7821,  2.0001,  0.4335],\n",
            "        [-0.3507, -0.1521, -0.6211, -0.3963,  0.4419,  0.0924, -0.4535],\n",
            "        [ 0.3369, -1.5195,  0.4414, -0.3643,  1.8471, -2.5794, -0.9287],\n",
            "        [ 0.0360, -1.2909, -0.3594,  0.2254, -1.0901,  1.7219, -0.6493],\n",
            "        [ 0.2852,  0.1134,  1.9223,  0.1376, -0.9384, -1.3627,  1.0402]],\n",
            "       requires_grad=True)\n",
            "tensor([[-5.5326e-01,  1.2937e-01, -1.6370e+00, -5.3911e-01, -9.0191e-01,\n",
            "         -4.8589e-01, -7.3572e-02],\n",
            "        [ 7.4402e-02, -5.3666e-01,  1.9124e+00,  3.3448e-01, -1.1342e-01,\n",
            "          1.3257e-03, -3.3284e-01],\n",
            "        [ 3.2242e-01, -7.6747e-01, -1.6000e+00,  1.1137e-02, -1.2982e+00,\n",
            "          3.5004e-01,  2.4569e-01]])\n",
            "tensor([[ 1.0619,  0.0259, -2.2936,  0.1694, -0.4468, -0.3504,  0.9994],\n",
            "        [ 0.6102, -0.3213,  0.0119, -0.4036,  0.2568, -1.4561, -0.4101],\n",
            "        [ 1.7328,  0.3418, -0.5684,  0.9618,  1.4892, -1.9717,  0.3445]])\n"
          ]
        },
        {
          "output_type": "stream",
          "name": "stderr",
          "text": [
            "/usr/local/lib/python3.8/dist-packages/torch/nn/functional.py:1956: UserWarning: nn.functional.tanh is deprecated. Use torch.tanh instead.\n",
            "  warnings.warn(\"nn.functional.tanh is deprecated. Use torch.tanh instead.\")\n",
            "<ipython-input-16-523ad4c47204>:24: UserWarning: Implicit dimension choice for softmax has been deprecated. Change the call to include dim=X as an argument.\n",
            "  at = F.softmax(torch.einsum(\"ijk,k->ij\", [Mt, w]))\n"
          ]
        },
        {
          "output_type": "execute_result",
          "data": {
            "text/plain": [
              "tensor([[0.0667, 0.0777, 0.0432, 0.8069, 0.0057],\n",
              "        [0.0535, 0.5501, 0.1257, 0.0586, 0.2120],\n",
              "        [0.0632, 0.1220, 0.2805, 0.3449, 0.1894]], grad_fn=<SoftmaxBackward0>)"
            ]
          },
          "metadata": {},
          "execution_count": 16
        }
      ]
    },
    {
      "cell_type": "markdown",
      "source": [
        "Tree Qn"
      ],
      "metadata": {
        "id": "_DTlHQ1AyR4c"
      }
    },
    {
      "cell_type": "code",
      "source": [
        "# Parameters\n",
        "# -- [num_actions x hidden_dimension]\n",
        "b = random_tensors([5, 3], requires_grad=True)\n",
        "# -- [num_actions x hidden_dimension x hidden_dimension]\n",
        "W = random_tensors([5, 3, 3], requires_grad=True)\n",
        "\n",
        "print(b)\n",
        "print(W)\n",
        "\n",
        "def transition(zl):\n",
        "  # -- [batch_size x num_actions x hidden_dimension]\n",
        "  return zl.unsqueeze(1) + F.tanh(torch.einsum(\"bk,aki->bai\", [zl, W]) + b)\n",
        "\n",
        "# Sampled dummy inputs\n",
        "# -- [batch_size x hidden_dimension]\n",
        "zl = random_tensors([2, 3])\n",
        "\n",
        "print(zl)\n",
        "transition(zl)\n",
        "\n",
        "print(zl)"
      ],
      "metadata": {
        "colab": {
          "base_uri": "https://localhost:8080/"
        },
        "id": "Eb3MKYozyTWi",
        "outputId": "27348d82-cd4c-4c72-ddf4-341cef39754f"
      },
      "execution_count": 17,
      "outputs": [
        {
          "output_type": "stream",
          "name": "stdout",
          "text": [
            "tensor([[-0.8576, -2.3004,  2.2165],\n",
            "        [ 1.8808,  0.1042, -0.3352],\n",
            "        [ 0.9317, -0.2656, -2.5995],\n",
            "        [ 1.5995, -0.2984, -0.0563],\n",
            "        [ 2.2318,  0.1245,  0.9341]], requires_grad=True)\n",
            "tensor([[[-0.3914, -1.4093,  1.1725],\n",
            "         [ 0.1884,  1.8752,  0.1290],\n",
            "         [ 0.5926,  1.5598, -1.2532]],\n",
            "\n",
            "        [[-0.7844,  0.1997,  0.5245],\n",
            "         [ 0.7051,  0.7116, -0.0075],\n",
            "         [ 1.8331, -0.8990, -0.4586]],\n",
            "\n",
            "        [[ 1.0734,  0.6890,  1.1198],\n",
            "         [ 0.6032, -0.2517, -1.7760],\n",
            "         [ 0.4344,  0.5344, -0.4255]],\n",
            "\n",
            "        [[ 0.6097, -1.2756, -0.0020],\n",
            "         [-1.4833, -1.9792,  0.4775],\n",
            "         [-0.5957,  1.0476, -0.6252]],\n",
            "\n",
            "        [[-1.0433,  0.5797,  1.4811],\n",
            "         [ 0.5857,  0.5164, -1.0622],\n",
            "         [-0.6777,  0.1642, -1.1433]]], requires_grad=True)\n",
            "tensor([[-0.9580, -0.2813,  1.4565],\n",
            "        [ 0.5631, -1.9938,  1.0776]])\n",
            "tensor([[-0.9580, -0.2813,  1.4565],\n",
            "        [ 0.5631, -1.9938,  1.0776]])\n"
          ]
        }
      ]
    },
    {
      "cell_type": "code",
      "source": [],
      "metadata": {
        "id": "LAyL0KKw1Lwj"
      },
      "execution_count": 17,
      "outputs": []
    }
  ]
}