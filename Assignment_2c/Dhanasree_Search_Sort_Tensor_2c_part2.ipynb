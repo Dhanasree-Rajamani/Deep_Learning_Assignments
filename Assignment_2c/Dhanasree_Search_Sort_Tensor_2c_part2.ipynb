{
  "nbformat": 4,
  "nbformat_minor": 0,
  "metadata": {
    "colab": {
      "provenance": [],
      "authorship_tag": "ABX9TyOtTMwcgD2xtfaodptp4SBI",
      "include_colab_link": true
    },
    "kernelspec": {
      "name": "python3",
      "display_name": "Python 3"
    },
    "language_info": {
      "name": "python"
    }
  },
  "cells": [
    {
      "cell_type": "markdown",
      "metadata": {
        "id": "view-in-github",
        "colab_type": "text"
      },
      "source": [
        "<a href=\"https://colab.research.google.com/github/Dhanasree-Rajamani/Deep_Learning_Assignments/blob/main/Assignment_2c/Dhanasree_Search_Sort_Tensor_2c_part2.ipynb\" target=\"_parent\"><img src=\"https://colab.research.google.com/assets/colab-badge.svg\" alt=\"Open In Colab\"/></a>"
      ]
    },
    {
      "cell_type": "markdown",
      "source": [
        "Performing Binary search, Linear search and Insertion sort using tensorflow"
      ],
      "metadata": {
        "id": "VkRY3ayrtPPh"
      }
    },
    {
      "cell_type": "markdown",
      "source": [
        "Import statements"
      ],
      "metadata": {
        "id": "devgIIsxu1nN"
      }
    },
    {
      "cell_type": "code",
      "source": [
        "from __future__ import absolute_import\n",
        "from __future__ import division\n",
        "from __future__ import print_function\n",
        "\n",
        "import numpy as np\n",
        "#import tensorflow as tf\n",
        "import tensorflow.compat.v1 as tf\n",
        "tf.disable_v2_behavior()"
      ],
      "metadata": {
        "id": "3jPYP2Blo6p7"
      },
      "execution_count": 3,
      "outputs": []
    },
    {
      "cell_type": "markdown",
      "source": [
        "Binary Search"
      ],
      "metadata": {
        "id": "yLKRwZX5NFnk"
      }
    },
    {
      "cell_type": "markdown",
      "source": [
        "Added comments below to explain how binary search is performed on an array"
      ],
      "metadata": {
        "id": "IBur3pi_thUQ"
      }
    },
    {
      "cell_type": "code",
      "execution_count": 4,
      "metadata": {
        "colab": {
          "base_uri": "https://localhost:8080/"
        },
        "id": "0KoCp-15ozwA",
        "outputId": "be8465f5-e1e8-4545-cb45-8f39d5925625"
      },
      "outputs": [
        {
          "output_type": "stream",
          "name": "stdout",
          "text": [
            "Array : [1, 2, 3, 4, 5, 6, 7, 8]\n",
            "Number to search : 3\n",
            "3  is at index  2\n"
          ]
        }
      ],
      "source": [
        "class BinarySearch():\n",
        "    def __init__(self, array, x):\n",
        "        self.array = tf.constant(array)\n",
        "        self.x = tf.constant(x)\n",
        "        self.loop = tf.while_loop(self.cond, self.body, [-1,False,0,len(array),-1],\n",
        "                        back_prop=False)\n",
        "\n",
        "    def run(self):\n",
        "        with tf.Session() as sess:\n",
        "            tf.global_variables_initializer().run()\n",
        "            return sess.run(self.loop)\n",
        "\n",
        "    # setting condition for binary search \n",
        "    # as left < right\n",
        "    # and not is_found\n",
        "    def cond(self, x, is_found, left, right, mid):\n",
        "        return tf.logical_and(tf.less_equal(left, right), tf.logical_not(is_found))\n",
        "\n",
        "    def body(self, x, is_found, left, right, mid):\n",
        "        \n",
        "        #calculating mid = (left + right)/2\n",
        "        mid = tf.cast(tf.divide(tf.add(left, right), 2), tf.int32)\n",
        "        return tf.cond(tf.equal(self.array[mid], self.x),\n",
        "                    \n",
        "                    #if array[mid] equals x set is_found as true and return mid\n",
        "                    lambda: (self.array[mid], True, left, right, mid),\n",
        "                    \n",
        "                    #else check if array[mid] less than x, set left as mid+1\n",
        "                    #else if array[mid] greater than x, then set right as mid-1\n",
        "                    #and continue the loop\n",
        "                    lambda: tf.cond(tf.less(self.array[mid], self.x),\n",
        "                                lambda: (-1, False, tf.add(mid, 1), right, mid),\n",
        "                                lambda: (-1, False, left, tf.subtract(mid, 1), mid)))\n",
        "\n",
        "if __name__ == '__main__':\n",
        "    #sort array for binary search\n",
        "    array = sorted([1, 8, 7, 4, 3, 2, 6, 5])\n",
        "    x = 3\n",
        "    search = BinarySearch(array, x)\n",
        "    number, is_found, _, _, index = search.run()\n",
        "\n",
        "    print('Array :', array)\n",
        "    print('Number to search :', x)\n",
        "    if is_found:\n",
        "        print(number, ' is at index ', index)\n",
        "    else:\n",
        "        print('Item not found.')"
      ]
    },
    {
      "cell_type": "markdown",
      "source": [
        "Linear Search"
      ],
      "metadata": {
        "id": "2vxDAzeSM_oB"
      }
    },
    {
      "cell_type": "markdown",
      "source": [
        "Added comments below to explain how linear search is performed on a given array"
      ],
      "metadata": {
        "id": "So3zsypDuWSj"
      }
    },
    {
      "cell_type": "code",
      "source": [
        "class LinearSearch():\n",
        "    def __init__(self, array, x):\n",
        "        self.x = tf.constant(x)\n",
        "        self.array = tf.constant(array)\n",
        "        self.length = len(array)\n",
        "        #while loop which performs the linear search\n",
        "        self.graph = tf.while_loop(self.cond, self.body, [0, self.x, False],\n",
        "                            back_prop=False)\n",
        "        \n",
        "    #creating session where we run the entire loop\n",
        "    def run(self):\n",
        "        with tf.Session() as sess:\n",
        "            tf.global_variables_initializer().run()\n",
        "            return sess.run(self.graph)\n",
        "\n",
        "    # condition to check:\n",
        "    # i < length and\n",
        "    # not is_found \n",
        "    def cond(self, i, _, is_found):\n",
        "        return tf.logical_and(tf.less(i, self.length), tf.logical_not(is_found))\n",
        "\n",
        "    \n",
        "    # if current item equals num to search for\n",
        "    # array[i] : current item, x : number to search\n",
        "    # then set is_found as true\n",
        "    # else increment i,  \n",
        "    def body(self, i, _, is_found):\n",
        "        return tf.cond(tf.equal(self.array[i], self.x),\n",
        "                    lambda: (i, self.array[i], True),\n",
        "                    lambda: (tf.add(i, 1), 0, False))\n",
        "\n",
        "\n",
        "if __name__ == '__main__':\n",
        "    #input array and value to search for\n",
        "    array, x = [1, 7, 3, 8, 9, 6], 8\n",
        "    search = LinearSearch(array, x)\n",
        "    index, number, is_found = ret = search.run()\n",
        "    print('Array :', array)\n",
        "    print('Number to search :', x)\n",
        "    if is_found:\n",
        "        print(number, ' is at index ', index)\n",
        "    else:\n",
        "        print('Item not found.')"
      ],
      "metadata": {
        "id": "CIyCBKbjpA0P",
        "colab": {
          "base_uri": "https://localhost:8080/"
        },
        "outputId": "46708f7a-1c25-4e71-ddc1-a16792ea37d0"
      },
      "execution_count": 5,
      "outputs": [
        {
          "output_type": "stream",
          "name": "stdout",
          "text": [
            "Array : [1, 7, 3, 8, 9, 6]\n",
            "Number to search : 8\n",
            "8  is at index  3\n"
          ]
        }
      ]
    },
    {
      "cell_type": "markdown",
      "source": [
        "Insertion Sort"
      ],
      "metadata": {
        "id": "i68xycceM8_u"
      }
    },
    {
      "cell_type": "markdown",
      "source": [
        "Added comments below to explain how insertion sort is performed on a given array"
      ],
      "metadata": {
        "id": "6m76iAyyucU5"
      }
    },
    {
      "cell_type": "code",
      "source": [
        "class InsertionSort():\n",
        "    def __init__(self, array):\n",
        "        self.i = tf.constant(1)\n",
        "        self.j = tf.constant(len(array)-1)\n",
        "        self.array = tf.Variable(array, trainable=False)\n",
        "        self.length = len(array)\n",
        "\n",
        "        # condition for while loop : i-1 < length-1\n",
        "        cond = lambda i, j, _: tf.less(i-1, self.length-1)\n",
        "        self.graph = tf.while_loop(cond, self.outer_loop, loop_vars=[self.i, self.j, self.array],\n",
        "                shape_invariants=[self.i.get_shape(), self.j.get_shape(), tf.TensorShape(self.length)],\n",
        "                parallel_iterations=1,\n",
        "                back_prop=False)\n",
        "\n",
        "    def run(self):\n",
        "        with tf.Session() as sess:\n",
        "            tf.global_variables_initializer().run()\n",
        "            return sess.run(self.graph)\n",
        "\n",
        "    # body of while loop\n",
        "    def outer_loop(self, i, j, _):\n",
        "        j = i\n",
        "        # check if array has previous elements\n",
        "        # and if yes, check if the previous element is greater than the current element  \n",
        "        cond = lambda i, j, array: tf.logical_and(tf.greater(j,0), tf.greater(array[j-1], array[j]))\n",
        "\n",
        "        loop = tf.while_loop(cond, self.inner_loop, loop_vars=[i, j, self.array],\n",
        "                    shape_invariants=[i.get_shape(), j.get_shape(), tf.TensorShape(self.length)],\n",
        "                    parallel_iterations=1,\n",
        "                    back_prop=False)\n",
        "        return tf.add(i, 1), loop[1], loop[2]\n",
        "\n",
        "\n",
        "    def inner_loop(self, i, j, _):\n",
        "        # decrement j\n",
        "        # swap current element with previous element\n",
        "        return i, tf.subtract(j, 1), tf.scatter_nd_update(self.array, [[j-1],[j]], [self.array[j],self.array[j-1]])\n",
        "\n",
        "with tf.Session() as sess:\n",
        "    x = np.array([1,7,3,4,8,10])\n",
        "    print(x)\n",
        "    print(\"sorted array is :\")\n",
        "    print(InsertionSort(x).run()[2])"
      ],
      "metadata": {
        "id": "FlerY8yHfiwE",
        "colab": {
          "base_uri": "https://localhost:8080/"
        },
        "outputId": "58b1ebd7-6263-44e9-9a5c-7a56d161a61a"
      },
      "execution_count": 6,
      "outputs": [
        {
          "output_type": "stream",
          "name": "stdout",
          "text": [
            "[ 1  7  3  4  8 10]\n",
            "sorted array is :\n",
            "[ 1  3  4  7  8 10]\n"
          ]
        }
      ]
    },
    {
      "cell_type": "code",
      "source": [],
      "metadata": {
        "id": "KYhByzs9M7Ru"
      },
      "execution_count": 6,
      "outputs": []
    }
  ]
}