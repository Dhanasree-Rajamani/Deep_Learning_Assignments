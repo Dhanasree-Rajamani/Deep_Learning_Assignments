{
  "nbformat": 4,
  "nbformat_minor": 0,
  "metadata": {
    "colab": {
      "provenance": [],
      "authorship_tag": "ABX9TyNrNebc+psqVYAkthTvcSXR",
      "include_colab_link": true
    },
    "kernelspec": {
      "name": "python3",
      "display_name": "Python 3"
    },
    "language_info": {
      "name": "python"
    }
  },
  "cells": [
    {
      "cell_type": "markdown",
      "metadata": {
        "id": "view-in-github",
        "colab_type": "text"
      },
      "source": [
        "<a href=\"https://colab.research.google.com/github/Dhanasree-Rajamani/Deep_Learning_Assignments/blob/main/Assignment_5/excel_chatgpt.ipynb\" target=\"_parent\"><img src=\"https://colab.research.google.com/assets/colab-badge.svg\" alt=\"Open In Colab\"/></a>"
      ]
    },
    {
      "cell_type": "markdown",
      "source": [
        "###Installation"
      ],
      "metadata": {
        "id": "aGZ4G2l4YTvA"
      }
    },
    {
      "cell_type": "code",
      "source": [
        "!pip install -q langchain openai chromadb"
      ],
      "metadata": {
        "id": "OFSKrph_lW0P"
      },
      "execution_count": null,
      "outputs": []
    },
    {
      "cell_type": "code",
      "source": [
        "!pip install tiktoken"
      ],
      "metadata": {
        "colab": {
          "base_uri": "https://localhost:8080/"
        },
        "id": "YhS5Pva_UlA3",
        "outputId": "3c897e3a-06a4-43e7-f308-defd01735752"
      },
      "execution_count": null,
      "outputs": [
        {
          "output_type": "stream",
          "name": "stdout",
          "text": [
            "Looking in indexes: https://pypi.org/simple, https://us-python.pkg.dev/colab-wheels/public/simple/\n",
            "Requirement already satisfied: tiktoken in /usr/local/lib/python3.9/dist-packages (0.3.3)\n",
            "Requirement already satisfied: requests>=2.26.0 in /usr/local/lib/python3.9/dist-packages (from tiktoken) (2.28.2)\n",
            "Requirement already satisfied: regex>=2022.1.18 in /usr/local/lib/python3.9/dist-packages (from tiktoken) (2022.10.31)\n",
            "Requirement already satisfied: certifi>=2017.4.17 in /usr/local/lib/python3.9/dist-packages (from requests>=2.26.0->tiktoken) (2022.12.7)\n",
            "Requirement already satisfied: charset-normalizer<4,>=2 in /usr/local/lib/python3.9/dist-packages (from requests>=2.26.0->tiktoken) (2.0.12)\n",
            "Requirement already satisfied: idna<4,>=2.5 in /usr/local/lib/python3.9/dist-packages (from requests>=2.26.0->tiktoken) (3.4)\n",
            "Requirement already satisfied: urllib3<1.27,>=1.21.1 in /usr/local/lib/python3.9/dist-packages (from requests>=2.26.0->tiktoken) (1.26.15)\n"
          ]
        }
      ]
    },
    {
      "cell_type": "markdown",
      "source": [
        "###Import required libraries"
      ],
      "metadata": {
        "id": "7xBICVd2YYYe"
      }
    },
    {
      "cell_type": "code",
      "source": [
        "from langchain.document_loaders import CSVLoader\n",
        "from langchain.indexes import VectorstoreIndexCreator\n",
        "from langchain.chains import RetrievalQA\n",
        "from langchain.llms import OpenAI\n",
        "import os"
      ],
      "metadata": {
        "id": "Z5Bzs9AgTVI6"
      },
      "execution_count": null,
      "outputs": []
    },
    {
      "cell_type": "code",
      "source": [
        "os.environ[\"OPENAI_API_KEY\"] = \"sk-..................\""
      ],
      "metadata": {
        "id": "-ZlFcGqdlALf"
      },
      "execution_count": null,
      "outputs": []
    },
    {
      "cell_type": "code",
      "source": [
        "!wget https://raw.githubusercontent.com/Dhanasree-Rajamani/Data_Mining_Article_and_Assignments/main/Data%20Mining%20Assignment%203/Datasets/zomato_.csv "
      ],
      "metadata": {
        "colab": {
          "base_uri": "https://localhost:8080/"
        },
        "id": "oUKir7u5mRPj",
        "outputId": "d56f14e9-2e38-42c7-fb58-2db30cc6adf5"
      },
      "execution_count": null,
      "outputs": [
        {
          "output_type": "stream",
          "name": "stdout",
          "text": [
            "--2023-04-19 07:24:34--  https://raw.githubusercontent.com/Dhanasree-Rajamani/Data_Mining_Article_and_Assignments/main/Data%20Mining%20Assignment%203/Datasets/zomato_.csv\n",
            "Resolving raw.githubusercontent.com (raw.githubusercontent.com)... 185.199.109.133, 185.199.111.133, 185.199.108.133, ...\n",
            "Connecting to raw.githubusercontent.com (raw.githubusercontent.com)|185.199.109.133|:443... connected.\n",
            "HTTP request sent, awaiting response... 200 OK\n",
            "Length: 2257318 (2.2M) [text/plain]\n",
            "Saving to: ‘zomato_.csv.1’\n",
            "\n",
            "\rzomato_.csv.1         0%[                    ]       0  --.-KB/s               \rzomato_.csv.1       100%[===================>]   2.15M  --.-KB/s    in 0.07s   \n",
            "\n",
            "2023-04-19 07:24:34 (29.6 MB/s) - ‘zomato_.csv.1’ saved [2257318/2257318]\n",
            "\n"
          ]
        }
      ]
    },
    {
      "cell_type": "code",
      "source": [
        "# Load the documents\n",
        "loader = CSVLoader(file_path='zomato_.csv',encoding='latin-1')"
      ],
      "metadata": {
        "id": "I_oaxkc6TgqT"
      },
      "execution_count": null,
      "outputs": []
    },
    {
      "cell_type": "code",
      "source": [
        "# Create an index using the loaded documents\n",
        "index_creator = VectorstoreIndexCreator()\n",
        "docsearch = index_creator.from_loaders([loader])"
      ],
      "metadata": {
        "colab": {
          "base_uri": "https://localhost:8080/"
        },
        "id": "MY5PizqBTkB0",
        "outputId": "61bf9717-5911-435d-de68-2cbc485d380d"
      },
      "execution_count": null,
      "outputs": [
        {
          "output_type": "stream",
          "name": "stderr",
          "text": [
            "WARNING:chromadb:Using embedded DuckDB without persistence: data will be transient\n"
          ]
        }
      ]
    },
    {
      "cell_type": "code",
      "source": [
        "# Create a question-answering chain using the index\n",
        "chain = RetrievalQA.from_chain_type(llm=OpenAI(), chain_type=\"stuff\", retriever=docsearch.vectorstore.as_retriever(), input_key=\"question\")"
      ],
      "metadata": {
        "id": "x_IfHiyBTj_u"
      },
      "execution_count": null,
      "outputs": []
    },
    {
      "cell_type": "markdown",
      "source": [
        "###Questions!"
      ],
      "metadata": {
        "id": "7B3xEM6MU_St"
      }
    },
    {
      "cell_type": "code",
      "source": [
        "# Pass a query to the chain\n",
        "query = \"in which city is the restaurant Garota de Ipanema located?\"\n",
        "response = chain({\"question\": query})"
      ],
      "metadata": {
        "id": "PEu7Y-OMTj8X"
      },
      "execution_count": null,
      "outputs": []
    },
    {
      "cell_type": "markdown",
      "source": [
        "7301700,Garota de Ipanema,30,Rio de Janeiro,\"Avenida Jo��o Alves, 56, Urca, Rio de Janeiro\",Urca,\"Urca, Rio de Janeiro\",-43.16266667,-22.94783333,\"Brazilian, Bar Food\",80,Brazilian Real(R$),No,No,No,No,3,4.3,Green,Very Good,10"
      ],
      "metadata": {
        "id": "9fZ0dlWMW739"
      }
    },
    {
      "cell_type": "markdown",
      "source": [
        "correct!"
      ],
      "metadata": {
        "id": "or-tO1apdP5I"
      }
    },
    {
      "cell_type": "code",
      "source": [
        "print(response['result'])"
      ],
      "metadata": {
        "colab": {
          "base_uri": "https://localhost:8080/"
        },
        "id": "QYaRigIeTj4O",
        "outputId": "e4b583c7-dbd1-4f71-fec7-5e6a35bde08a"
      },
      "execution_count": null,
      "outputs": [
        {
          "output_type": "stream",
          "name": "stdout",
          "text": [
            " Rio de Janeiro\n"
          ]
        }
      ]
    },
    {
      "cell_type": "code",
      "source": [
        "# Pass a query to the chain\n",
        "query = \"what are the different cuisines of food available in various restaurants in New Delhi?\"\n",
        "response = chain({\"question\": query})"
      ],
      "metadata": {
        "id": "YxfcYa4STjzi"
      },
      "execution_count": null,
      "outputs": []
    },
    {
      "cell_type": "code",
      "source": [
        "print(response['result'])"
      ],
      "metadata": {
        "colab": {
          "base_uri": "https://localhost:8080/"
        },
        "id": "SKgakUKsVmwY",
        "outputId": "bd1ef2e5-c848-40be-bfb1-126d87cd9731"
      },
      "execution_count": null,
      "outputs": [
        {
          "output_type": "stream",
          "name": "stdout",
          "text": [
            " The different cuisines of food available in restaurants in New Delhi include Italian, Chinese, Continental, Thai, Mediterranean, Lebanese, American, Bakery, Deli, Burger, Sandwich, Pizza, North Indian, and Salad.\n"
          ]
        }
      ]
    },
    {
      "cell_type": "code",
      "source": [
        "# Pass a query to the chain\n",
        "query = \"what is the average cost in The Cascade Restaurant?\"\n",
        "response = chain({\"question\": query})"
      ],
      "metadata": {
        "id": "oJFNki1eVoLF"
      },
      "execution_count": null,
      "outputs": []
    },
    {
      "cell_type": "markdown",
      "source": [
        "3000021,The Cascade Restaurant,1,Coimbatore,\"479-B1, Avinashi Road, Near Suguna Kalyana Mandapam, Peelamedu, Coimbatore\",Peelamedu,\"Peelamedu, Coimbatore\",76.99501667,11.02127778,Chinese,1200,Indian Rupees(Rs.),No,Yes,No,No,3,4.1,Green,Very Good,243\n",
        "\n",
        "The data is present though!"
      ],
      "metadata": {
        "id": "t1lDr-yJWw4E"
      }
    },
    {
      "cell_type": "code",
      "source": [
        "print(response['result'])"
      ],
      "metadata": {
        "colab": {
          "base_uri": "https://localhost:8080/"
        },
        "id": "vh4XSTlPV9hE",
        "outputId": "a16f4cc8-bd7f-4553-ccd7-5424ae8d1f37"
      },
      "execution_count": null,
      "outputs": [
        {
          "output_type": "stream",
          "name": "stdout",
          "text": [
            " The Cascade Restaurant is not listed in the information provided, so the average cost is not known.\n"
          ]
        }
      ]
    },
    {
      "cell_type": "markdown",
      "source": [
        "has given right answer, but for the restaurant kream's, not kuchi n kream"
      ],
      "metadata": {
        "id": "LbDTkbgHdFOU"
      }
    },
    {
      "cell_type": "code",
      "source": [
        "# Pass a query to the chain\n",
        "query = \"what is the average cost in Kuchi n Kream?\"\n",
        "response = chain({\"question\": query})"
      ],
      "metadata": {
        "id": "O_C4Z4fybgnH"
      },
      "execution_count": null,
      "outputs": []
    },
    {
      "cell_type": "code",
      "source": [
        "print(response['result'])"
      ],
      "metadata": {
        "colab": {
          "base_uri": "https://localhost:8080/"
        },
        "id": "3QkAnx3JbjIF",
        "outputId": "2059bd32-556e-4fb8-be24-00a53e5e9543"
      },
      "execution_count": null,
      "outputs": [
        {
          "output_type": "stream",
          "name": "stdout",
          "text": [
            " The average cost for two at Kream's is 200 Indian Rupees (Rs.).\n"
          ]
        }
      ]
    },
    {
      "cell_type": "code",
      "source": [
        "# Pass a query to the chain\n",
        "query = \"how many times has Farzi Cafe occured in the dataset?\"\n",
        "response = chain({\"question\": query})"
      ],
      "metadata": {
        "id": "81qT36odV-fq"
      },
      "execution_count": null,
      "outputs": []
    },
    {
      "cell_type": "markdown",
      "source": [
        "Correct answer : 6 times"
      ],
      "metadata": {
        "id": "t0ek2CdWWe2s"
      }
    },
    {
      "cell_type": "code",
      "source": [
        "print(response['result'])"
      ],
      "metadata": {
        "colab": {
          "base_uri": "https://localhost:8080/"
        },
        "id": "JOjIQbKvWaQO",
        "outputId": "0b2fec8b-e0db-4e43-93c0-571bd53985b1"
      },
      "execution_count": null,
      "outputs": [
        {
          "output_type": "stream",
          "name": "stdout",
          "text": [
            " 4 times\n"
          ]
        }
      ]
    },
    {
      "cell_type": "markdown",
      "source": [
        "Partially correct"
      ],
      "metadata": {
        "id": "ufIk2_Pic9hw"
      }
    },
    {
      "cell_type": "code",
      "source": [
        "# Pass a query to the chain\n",
        "query = \"what are some excellent restaurants in coimbatore?\"\n",
        "response = chain({\"question\": query})"
      ],
      "metadata": {
        "id": "n1OFUTLDWbRJ"
      },
      "execution_count": null,
      "outputs": []
    },
    {
      "cell_type": "markdown",
      "source": [
        "3000001,That's Y Food,1,Coimbatore,\"24/49, TV Swamy Road East, Opposite Emeral Building, RS Puram, Coimbatore\",RS Puram,\"RS Puram, Coimbatore\",76.95295,11.010375,\"North Indian, Biryani\",1400,Indian Rupees(Rs.),No,No,No,No,3,4.2,Green,Very Good,299\n",
        "\n",
        "3001321,CakeBee,1,Coimbatore,\"6/1, SRP Nagar, Saibaba Colony, Coimbatore\",Saibaba Colony,\"Saibaba Colony, Coimbatore\",76.94465239,11.02611735,\"Bakery, Desserts\",350,Indian Rupees(Rs.),No,Yes,No,No,2,4.9,Dark Green,Excellent,200\n",
        "\n",
        "3000195,Valarmathi Kongunaatu Samayal,1,Coimbatore,\"207/A, CSI Compound, Opposite Photo Centre, Race Course, Coimbatore\",Race Course,\"Race Course, Coimbatore\",76.976268,11.001852,\"South Indian, Biryani\",350,Indian Rupees(Rs.),No,No,No,No,2,4.5,Dark Green,Excellent,380\n",
        "\n",
        "3000770,Cafe Totaram,1,Coimbatore,\"245/1, Near Veejay Hall, Raheja Apartment, Race Course, Coimbatore\",Race Course,\"Race Course, Coimbatore\",76.98187642,11.00076241,\"Cafe, Fast Food\",600,Indian Rupees(Rs.),No,Yes,No,No,2,4,Green,Very Good,132\n"
      ],
      "metadata": {
        "id": "mi17tg63XpxG"
      }
    },
    {
      "cell_type": "code",
      "source": [
        "print(response['result'])"
      ],
      "metadata": {
        "colab": {
          "base_uri": "https://localhost:8080/"
        },
        "id": "b7wgcjeMXXaK",
        "outputId": "0b62b9ab-93fe-4972-e9f1-cacbbdfca5a5"
      },
      "execution_count": null,
      "outputs": [
        {
          "output_type": "stream",
          "name": "stdout",
          "text": [
            " Valarmathi Kongunaatu Samayal, with an aggregate rating of 4.5 and a rating color of Dark Green, is an excellent South Indian and Biryani restaurant in Coimbatore. That's Y Food, with an aggregate rating of 4.2 and a rating color of Green, is an excellent North Indian and Biryani restaurant in Coimbatore. Cafe Totaram, with an aggregate rating of 4 and a rating color of Green, is an excellent Cafe and Fast Food restaurant in Coimbatore.\n"
          ]
        }
      ]
    },
    {
      "cell_type": "markdown",
      "source": [
        "correct!"
      ],
      "metadata": {
        "id": "H4km95vmc7Lb"
      }
    },
    {
      "cell_type": "code",
      "source": [
        "# Pass a query to the chain\n",
        "query = \"which restaurant is located at 216,Augusta,1315 Augusta West Pkwy, Augusta, GA 30909?\"\n",
        "response = chain({\"question\": query})"
      ],
      "metadata": {
        "id": "GtweaDacXZNU"
      },
      "execution_count": null,
      "outputs": []
    },
    {
      "cell_type": "code",
      "source": [
        "print(response['result'])"
      ],
      "metadata": {
        "id": "skjnuIveYwYo",
        "outputId": "a2a24aeb-da53-4846-b78c-aa8f84915bea",
        "colab": {
          "base_uri": "https://localhost:8080/"
        }
      },
      "execution_count": null,
      "outputs": [
        {
          "output_type": "stream",
          "name": "stdout",
          "text": [
            " The restaurant located at 216,Augusta,1315 Augusta West Pkwy, Augusta, GA 30909 is Miyabi Kyoto Japanese Steak House.\n"
          ]
        }
      ]
    },
    {
      "cell_type": "code",
      "source": [],
      "metadata": {
        "id": "Jlbf4nAAYxff"
      },
      "execution_count": null,
      "outputs": []
    }
  ]
}